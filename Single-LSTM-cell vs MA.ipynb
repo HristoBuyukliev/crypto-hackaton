{
 "cells": [
  {
   "cell_type": "markdown",
   "metadata": {},
   "source": [
    "### This notebook is an experiment if a single LSTM neuron can model exponential moving average, average of variance, bollinger bands\n"
   ]
  },
  {
   "cell_type": "code",
   "execution_count": null,
   "metadata": {},
   "outputs": [
    {
     "name": "stderr",
     "output_type": "stream",
     "text": [
      "/home/hristo/mlenv3/lib/python3.5/site-packages/ipykernel_launcher.py:14: FutureWarning: pd.ewm_mean is deprecated for Series and will be removed in a future version, replace with \n",
      "\tSeries.ewm(adjust=True,ignore_na=False,com=50,min_periods=0).mean()\n",
      "  \n"
     ]
    }
   ],
   "source": [
    "import numpy as np\n",
    "import pandas as pd\n",
    "import random\n",
    "import matplotlib.pyplot as plt\n",
    "%matplotlib inline\n",
    "from keras.layers import Input, SimpleRNN\n",
    "from keras.models import Model\n",
    "\n",
    "\n",
    "T = 1000\n",
    "# create random walk w/ drift and it's moving average\n",
    "a = np.cumsum(np.array([random.random() for _ in range(T)])) - np.linspace(0, T/2, T)\n",
    "data = pd.DataFrame({'a': a})\n",
    "data['ma'] = np.concatenate([[0], pd.ewma(data.a, com=50)[:-1].values])# so mu_t = 15/16*mu(t-1) + 1/16*x_t\n",
    "data.plot()\n",
    "x = data.a.values.reshape((1,T,1))\n",
    "y = data.ma.values.reshape((1,T,1))\n",
    "\n",
    "# unrolled\n",
    "inputs = Input(shape=(T,1))\n",
    "MA_contender = SimpleRNN(1, activation='linear', return_sequences = True, unroll = True)(inputs)\n",
    "model = Model(inputs=inputs, outputs=MA_contender)\n",
    "model.compile(optimizer='rmsprop',\n",
    "              loss='mae',\n",
    "              metrics=['mae'])\n",
    "model.fit(x, y, epochs = 20, verbose = 0)\n",
    "data['y_hat'] = model.predict(x).reshape((T))\n",
    "data.plot()\n",
    "\n",
    "# rolled\n",
    "inputs = Input(shape=(T,1))\n",
    "MA_contender = SimpleRNN(1, activation='linear', return_sequences = True, unroll = False)(inputs)\n",
    "model = Model(inputs=inputs, outputs=MA_contender)\n",
    "model.compile(optimizer='rmsprop',\n",
    "              loss='mae',\n",
    "              metrics=['mae'])\n",
    "model.fit(x, y, epochs = 50, verbose = 0)\n",
    "data['y_hat'] = model.predict(x).reshape((T))\n",
    "data.plot()"
   ]
  }
 ],
 "metadata": {
  "kernelspec": {
   "display_name": "Python 3",
   "language": "python",
   "name": "python3"
  },
  "language_info": {
   "codemirror_mode": {
    "name": "ipython",
    "version": 3
   },
   "file_extension": ".py",
   "mimetype": "text/x-python",
   "name": "python",
   "nbconvert_exporter": "python",
   "pygments_lexer": "ipython3",
   "version": "3.5.2"
  }
 },
 "nbformat": 4,
 "nbformat_minor": 2
}
