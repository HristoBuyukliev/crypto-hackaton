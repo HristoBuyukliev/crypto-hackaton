{
 "cells": [
  {
   "cell_type": "code",
   "execution_count": 1,
   "metadata": {},
   "outputs": [],
   "source": [
    "import numpy as np\n",
    "import pandas as pd"
   ]
  },
  {
   "cell_type": "code",
   "execution_count": 2,
   "metadata": {},
   "outputs": [],
   "source": [
    "coin_ids = {\n",
    "    'Bitcoin': 1442,\n",
    "    'Bitcoin Cash': 1445,\n",
    "    'Bitcoin Gold': 1456,\n",
    "    'Cardano': 1446,\n",
    "    'Dash': 1453,\n",
    "    'Dogecoin': 1447,\n",
    "    'Eos': 1452,\n",
    "    'Ethereum': 1443,\n",
    "    'Ethereum Classic': 1457,\n",
    "    'Iota': 1451,\n",
    "    'Lisk': 1460,\n",
    "    'Litecoin': 1448,\n",
    "    'Monero': 1454,\n",
    "    'NEMcoin': 1447,\n",
    "    'Neo': 1449,\n",
    "    'Ripple': 1444,\n",
    "    'Stellar': 1450,\n",
    "    'Tether': 1474,\n",
    "    'Tron': 1455,\n",
    "    'Zcash': 1465,\n",
    "}\n",
    "\n",
    "id_coins = {v: k for k, v in coin_ids.items()}"
   ]
  },
  {
   "cell_type": "code",
   "execution_count": 3,
   "metadata": {},
   "outputs": [],
   "source": [
    "iterator_full_data = pd.read_csv('data/datathon.csv', iterator=True, chunksize=100000, parse_dates = ['time'])\n",
    "subset_full_data = pd.concat([chunk[chunk.refID_coin.isin(coin_ids.values())] for chunk in iterator_full_data])"
   ]
  },
  {
   "cell_type": "markdown",
   "metadata": {},
   "source": [
    "data from http://www.forextester.com/data/datasources"
   ]
  },
  {
   "cell_type": "code",
   "execution_count": 6,
   "metadata": {},
   "outputs": [
    {
     "name": "stdout",
     "output_type": "stream",
     "text": [
      "coin__ids.csv  datathon.csv  EURUSD.csv  price_data.csv  XAUUSD.csv\r\n"
     ]
    }
   ],
   "source": [
    "%ls data"
   ]
  },
  {
   "cell_type": "code",
   "execution_count": 75,
   "metadata": {},
   "outputs": [],
   "source": [
    "eurusd = pd.read_csv('data/EURUSD.csv', parse_dates = ['<DTYYYYMMDD>'])\n",
    "eurusd = eurusd[eurusd['<TIME>'] % 500 == 0][['<DTYYYYMMDD>', '<TIME>', '<CLOSE>']]\n",
    "eurusd = eurusd.rename({'<DTYYYYMMDD>': 'date', '<TIME>': 'minute', '<CLOSE>': 'eurusd'}, axis=1)\n",
    "eurusd.minute = eurusd.minute/100"
   ]
  },
  {
   "cell_type": "code",
   "execution_count": 76,
   "metadata": {},
   "outputs": [],
   "source": [
    "xauusd = pd.read_csv('data/XAUUSD.csv', parse_dates = ['<DTYYYYMMDD>'])\n",
    "xauusd = xauusd[xauusd['<TIME>'] % 500 == 0][['<DTYYYYMMDD>', '<TIME>', '<CLOSE>']]\n",
    "xauusd = xauusd.rename({'<DTYYYYMMDD>': 'date', '<TIME>': 'minute', '<CLOSE>': 'xauusd'}, axis=1)\n",
    "xauusd.minute = xauusd.minute/100"
   ]
  },
  {
   "cell_type": "markdown",
   "metadata": {},
   "source": [
    "### write only filtered files to repo, so that people don't download huge files:"
   ]
  },
  {
   "cell_type": "code",
   "execution_count": 85,
   "metadata": {},
   "outputs": [],
   "source": [
    "xauusd[xauusd.date > '2017-01-01'].to_csv('data/filtered_xauusd.csv')\n",
    "eurusd[eurusd.date > '2017-01-01'].to_csv('data/filtered_eurusd.csv')"
   ]
  },
  {
   "cell_type": "markdown",
   "metadata": {},
   "source": [
    "### helper columns for the merge:"
   ]
  },
  {
   "cell_type": "code",
   "execution_count": 77,
   "metadata": {},
   "outputs": [],
   "source": [
    "subset_full_data['minute'] = (subset_full_data.time.dt.minute + subset_full_data.time.dt.hour*100).astype('int')\n",
    "subset_full_data['date'] = subset_full_data.time.dt.date.astype('<M8[ns]')"
   ]
  },
  {
   "cell_type": "markdown",
   "metadata": {},
   "source": [
    "### merge:"
   ]
  },
  {
   "cell_type": "code",
   "execution_count": 78,
   "metadata": {},
   "outputs": [],
   "source": [
    "subset_full_data = pd.merge(subset_full_data, eurusd, how = 'left', on = ['date', 'minute'])\n",
    "subset_full_data = pd.merge(subset_full_data, xauusd, how = 'left', on = ['date', 'minute'])"
   ]
  },
  {
   "cell_type": "markdown",
   "metadata": {},
   "source": [
    "### fill na values (sat, sunday):"
   ]
  },
  {
   "cell_type": "code",
   "execution_count": 79,
   "metadata": {},
   "outputs": [],
   "source": [
    "subset_full_data.fillna(method = 'ffill', inplace=True)"
   ]
  }
 ],
 "metadata": {
  "kernelspec": {
   "display_name": "Python 3",
   "language": "python",
   "name": "python3"
  },
  "language_info": {
   "codemirror_mode": {
    "name": "ipython",
    "version": 3
   },
   "file_extension": ".py",
   "mimetype": "text/x-python",
   "name": "python",
   "nbconvert_exporter": "python",
   "pygments_lexer": "ipython3",
   "version": "3.5.2"
  }
 },
 "nbformat": 4,
 "nbformat_minor": 2
}
