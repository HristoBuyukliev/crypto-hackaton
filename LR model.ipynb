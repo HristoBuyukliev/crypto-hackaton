{
 "cells": [
  {
   "cell_type": "code",
   "execution_count": 37,
   "metadata": {},
   "outputs": [],
   "source": [
    "import pandas as pd\n",
    "import numpy as np\n",
    "import matplotlib.pyplot as plt\n",
    "%matplotlib inline\n",
    "from sklearn.linear_model import LinearRegression\n",
    "from math import sqrt"
   ]
  },
  {
   "cell_type": "code",
   "execution_count": 2,
   "metadata": {},
   "outputs": [],
   "source": [
    "coin_ids = {\n",
    "    'Bitcoin': 1442,\n",
    "    'Bitcoin Cash': 1445,\n",
    "    'Bitcoin Gold': 1456,\n",
    "    'Cardano': 1446,\n",
    "    'Dash': 1453,\n",
    "    'Dogecoin': 1477,\n",
    "    'Eos': 1452,\n",
    "    'Ethereum': 1443,\n",
    "    'Ethereum Classic': 1457,\n",
    "    'Iota': 1451,\n",
    "    'Lisk': 1460,\n",
    "    'Litecoin': 1448,\n",
    "    'Monero': 1454,\n",
    "    'NEMcoin': 1447,\n",
    "    'Neo': 1449,\n",
    "    'Ripple': 1444,\n",
    "    'Stellar': 1450,\n",
    "    'Tether': 1474,\n",
    "    'Tron': 1455,\n",
    "    'Zcash': 1465,\n",
    "}\n",
    "\n",
    "id_coins = {v: k for k, v in coin_ids.items()}"
   ]
  },
  {
   "cell_type": "markdown",
   "metadata": {},
   "source": [
    "### load data:"
   ]
  },
  {
   "cell_type": "code",
   "execution_count": 9,
   "metadata": {},
   "outputs": [],
   "source": [
    "iterator_full_data = pd.read_csv('data/datathon.csv', iterator=True, chunksize=100000, parse_dates = ['time'])\n",
    "subset_full_data = pd.concat([chunk[chunk.refID_coin.isin(coin_ids.values())] for chunk in iterator_full_data])\n",
    "subset_full_data = subset_full_data.replace({'refID_coin': id_coins})"
   ]
  },
  {
   "cell_type": "markdown",
   "metadata": {},
   "source": [
    "### There are some duplicate rows, as well as some rows that should exist, but don't:"
   ]
  },
  {
   "cell_type": "code",
   "execution_count": 10,
   "metadata": {},
   "outputs": [
    {
     "data": {
      "text/plain": [
       "(456, 9)"
      ]
     },
     "execution_count": 10,
     "metadata": {},
     "output_type": "execute_result"
    }
   ],
   "source": [
    "subset_full_data[subset_full_data[['time', 'refID_coin']].duplicated()].shape"
   ]
  },
  {
   "cell_type": "code",
   "execution_count": 11,
   "metadata": {},
   "outputs": [],
   "source": [
    "first_period = subset_full_data.time.min()\n",
    "last_period = subset_full_data.time.max()\n",
    "all_periods = pd.date_range(start=first_period, end=last_period, freq='5min')\n",
    "all_currencies = subset_full_data.refID_coin.unique()\n",
    "full_index = pd.MultiIndex.from_product([all_periods, all_currencies])\n",
    "subset_full_data = (subset_full_data\n",
    "                    .drop_duplicates(subset=['time', 'refID_coin'])\n",
    "                    .set_index(['time', 'refID_coin'])\n",
    "                    .reindex(full_index, fill_value = np.nan)\n",
    "                    .reset_index()\n",
    "                    .rename({'level_0': 'time', 'level_1': 'refID_coin'}, axis=1))\n",
    "\n",
    "\n",
    "\n",
    "full_index = pd.MultiIndex.from_product([subset_full_data.time.unique(), subset_full_data.refID_coin.unique()])\n",
    "subset_full_data = subset_full_data.drop_duplicates(subset = ['time', 'refID_coin']).set_index(['time', 'refID_coin']).reindex(full_index, fill_value = np.nan).reset_index().rename({'level_0': 'time', 'level_1': 'refID_coin'}, axis=1)"
   ]
  },
  {
   "cell_type": "markdown",
   "metadata": {},
   "source": [
    "### fill missing values:"
   ]
  },
  {
   "cell_type": "code",
   "execution_count": 12,
   "metadata": {},
   "outputs": [],
   "source": [
    "numeric_cols = ['price', 'marketCap', 'CirculatingSupply', 'Volume24h', 'Movement1h', 'Movement24h']"
   ]
  },
  {
   "cell_type": "code",
   "execution_count": 13,
   "metadata": {},
   "outputs": [],
   "source": [
    "subset_full_data[numeric_cols] = subset_full_data.groupby('refID_coin')[numeric_cols].transform(lambda x: x.fillna(method='ffill'))"
   ]
  },
  {
   "cell_type": "markdown",
   "metadata": {},
   "source": [
    "### add moving averages:"
   ]
  },
  {
   "cell_type": "code",
   "execution_count": 14,
   "metadata": {},
   "outputs": [],
   "source": [
    "all_numeric_cols = [] + numeric_cols\n",
    "for column in numeric_cols:\n",
    "    for center_of_mass in [10, 50, 288, 1000, 1440, 2880]:\n",
    "        new_col_name = column + str(center_of_mass)\n",
    "        all_numeric_cols.append(new_col_name)\n",
    "        ma = subset_full_data.groupby(\"refID_coin\", as_index = False).apply(lambda x: x[column].ewm(com=center_of_mass).mean())\n",
    "        subset_full_data[new_col_name] = ma.reset_index(level=0, drop=True)"
   ]
  },
  {
   "cell_type": "code",
   "execution_count": 15,
   "metadata": {},
   "outputs": [
    {
     "data": {
      "text/plain": [
       "[<matplotlib.lines.Line2D at 0x7f27b712ae10>]"
      ]
     },
     "execution_count": 15,
     "metadata": {},
     "output_type": "execute_result"
    },
    {
     "data": {
      "image/png": "[encoded data removed]",
      "text/plain": [
       "<matplotlib.figure.Figure at 0x7f27b717b668>"
      ]
     },
     "metadata": {},
     "output_type": "display_data"
    }
   ],
   "source": [
    "daily = subset_full_data[(subset_full_data.time.dt.minute == 0) & \n",
    "                         (subset_full_data.time.dt.hour == 12) &\n",
    "                         (subset_full_data.refID_coin == 'Bitcoin')]\n",
    "plt.plot(daily.time, daily.marketCap)\n",
    "plt.plot(daily.time, daily.marketCap1000)"
   ]
  },
  {
   "cell_type": "markdown",
   "metadata": {},
   "source": [
    "### Create target:\n",
    "#### group by coin, shift price by one:"
   ]
  },
  {
   "cell_type": "code",
   "execution_count": 16,
   "metadata": {},
   "outputs": [],
   "source": [
    "subset_full_data['target'] = subset_full_data.groupby(['refID_coin'])['price'].shift(-1)"
   ]
  },
  {
   "cell_type": "markdown",
   "metadata": {},
   "source": [
    "### fit LR model:"
   ]
  },
  {
   "cell_type": "code",
   "execution_count": 17,
   "metadata": {},
   "outputs": [],
   "source": [
    "start_test_date = '2018-03-01'"
   ]
  },
  {
   "cell_type": "code",
   "execution_count": 17,
   "metadata": {},
   "outputs": [],
   "source": [
    "train = subset_full_data[(subset_full_data.time <= start_test_date) & (subset_full_data.refID_coin == 'Bitcoin')]\n",
    "# selects data from 03-01 00:05 onward\n",
    "test  = subset_full_data[(subset_full_data.time > start_test_date) & (subset_full_data.refID_coin == 'Bitcoin')] "
   ]
  },
  {
   "cell_type": "code",
   "execution_count": 40,
   "metadata": {},
   "outputs": [
    {
     "name": "stdout",
     "output_type": "stream",
     "text": [
      "Bitcoin\n",
      "(12248, 42) (12248,) (6503, 42) (6503,)\n",
      "1.7920381537770433 0.1192105990428424\n",
      "39.464780067671484 50\n",
      "Ethereum\n",
      "(12248, 42) (12248,) (6503, 42) (6503,)\n",
      "3.4876811640777143 0.12301381235351852\n",
      "38.46508766533374 50\n",
      "Ripple\n",
      "(12248, 42) (12248,) (6503, 42) (6503,)\n",
      "0.2886851333396394 0.17304668712056148\n",
      "36.31190402952937 50\n",
      "Bitcoin Cash\n",
      "(12248, 42) (12248,) (6503, 42) (6503,)\n",
      "6.596187026961267 0.17182944337482295\n",
      "36.00430636727161 50\n",
      "Cardano\n",
      "(12248, 42) (12248,) (6503, 42) (6503,)\n",
      "1.2378709474929623 0.24669504010111243\n",
      "34.1741002768379 50\n",
      "Litecoin\n",
      "(12248, 42) (12248,) (6503, 42) (6503,)\n",
      "6.7196765495279 0.1496250904723953\n",
      "36.773300522916024 50\n",
      "NEMcoin\n",
      "(12248, 42) (12248,) (6503, 42) (6503,)\n",
      "0.5539660404888588 0.261454992944112\n",
      "35.78898800369117 50\n",
      "Neo\n",
      "(12248, 42) (12248,) (6503, 42) (6503,)\n",
      "1.0250504009175667 0.22421031335939304\n",
      "35.65056905567518 50\n",
      "Stellar\n",
      "(12248, 42) (12248,) (6503, 42) (6503,)\n",
      "4.686266102947778 0.2271651651858817\n",
      "35.6198092894494 50\n",
      "Iota\n",
      "(12248, 42) (12248,) (6503, 42) (6503,)\n",
      "0.3232696575731778 0.2189212055131933\n",
      "11.8732697631498 50\n",
      "Dash\n",
      "(12248, 42) (12248,) (6503, 42) (6503,)\n",
      "7.492921995271297 0.14548016805772926\n",
      "34.40479852353122 50\n",
      "Eos\n",
      "(12248, 42) (12248,) (6503, 42) (6503,)\n",
      "16.080691013355693 0.18115225473137364\n",
      "27.529990772070132 50\n",
      "Monero\n",
      "(12248, 42) (12248,) (6503, 42) (6503,)\n",
      "3.6226591572332505 0.19544536070153903\n",
      "37.25007689941557 50\n",
      "Tron\n",
      "(12248, 42) (12248,) (6503, 42) (6503,)\n",
      "0.49173429703256666 0.2332868925906276\n",
      "35.4813903414334 50\n",
      "Bitcoin Gold\n",
      "(12248, 42) (12248,) (6503, 42) (6503,)\n",
      "5.654456056233335 0.18754239474034384\n",
      "34.12796062749923 50\n",
      "Ethereum Classic\n",
      "(12248, 42) (12248,) (6503, 42) (6503,)\n",
      "13.616452524561549 0.211370449832173\n",
      "34.850815133804986 50\n",
      "Lisk\n",
      "(12248, 42) (12248,) (6503, 42) (6503,)\n",
      "1.6965749053649593 0.28036116298850683\n",
      "30.129191018148262 50\n",
      "Tether\n",
      "(12248, 42) (12248,) (6503, 42) (6503,)\n",
      "0.227918731836702 0.12498892694659774\n",
      "14.580129191018148 50\n",
      "Zcash\n",
      "(12248, 42) (12248,) (6503, 42) (6503,)\n",
      "18.36693404541892 0.15994076819804107\n",
      "34.435558289757 50\n"
     ]
    }
   ],
   "source": [
    "for coin in subset_full_data.refID_coin.unique():\n",
    "    print(coin)\n",
    "    train = subset_full_data[(subset_full_data.time <= start_test_date) & \n",
    "                             (subset_full_data.refID_coin == coin)]\n",
    "    test  = subset_full_data[(subset_full_data.time > start_test_date) & \n",
    "                             (subset_full_data.refID_coin == coin)].head(-1)\n",
    "    X_train = train[all_numeric_cols].values\n",
    "    X_test = test[all_numeric_cols].values\n",
    "    y_train = train.target.values\n",
    "    y_test = test.target.values\n",
    "    print(X_train.shape, y_train.shape, X_test.shape, y_test.shape)\n",
    "    \n",
    "\n",
    "    lr = LinearRegression()\n",
    "    lr.fit(X_train, y_train)\n",
    "    y_pred = lr.predict(X_test)\n",
    "    y_pred_random_walk = test.price.values\n",
    "    \n",
    "    print(mape_error(y_pred, y_test), mape_error(y_pred_random_walk, y_test))\n",
    "    print(ds_error(y_pred, y_test), 50)"
   ]
  },
  {
   "cell_type": "code",
   "execution_count": 38,
   "metadata": {},
   "outputs": [],
   "source": [
    "def mape_error(actual, forecasted):\n",
    "    actual = pd.Series(actual)\n",
    "    forecasted = pd.Series(forecasted)\n",
    "    return 100 * sum(abs((actual - forecasted) / actual)) / actual.size\n",
    "\n",
    "def ds_error(actual, forecasted):\n",
    "    actual = pd.Series(actual)\n",
    "    forecasted = pd.Series(forecasted)\n",
    "    return 100 * sum((actual - actual.shift(1)) * (forecasted - forecasted.shift(1)) > 0) / (actual.size - 1)\n",
    "\n",
    "def mape_var_coeff(mape_errors):\n",
    "    mape_errors = pd.Series(mape_errors)\n",
    "    mean_mape_error = mape_errors.mean()\n",
    "    return sqrt(sum((mape_errors - mean_mape_error)**2) / (mape_errors.size - 1)) / mean_mape_error"
   ]
  },
  {
   "cell_type": "code",
   "execution_count": 34,
   "metadata": {},
   "outputs": [],
   "source": []
  },
  {
   "cell_type": "code",
   "execution_count": 35,
   "metadata": {},
   "outputs": [
    {
     "data": {
      "text/plain": [
       "(1.7920381537770433, 0.1192105990428424)"
      ]
     },
     "execution_count": 35,
     "metadata": {},
     "output_type": "execute_result"
    }
   ],
   "source": []
  },
  {
   "cell_type": "code",
   "execution_count": null,
   "metadata": {},
   "outputs": [],
   "source": [
    "mape_error()"
   ]
  }
 ],
 "metadata": {
  "kernelspec": {
   "display_name": "Python 3",
   "language": "python",
   "name": "python3"
  },
  "language_info": {
   "codemirror_mode": {
    "name": "ipython",
    "version": 3
   },
   "file_extension": ".py",
   "mimetype": "text/x-python",
   "name": "python",
   "nbconvert_exporter": "python",
   "pygments_lexer": "ipython3",
   "version": "3.5.2"
  }
 },
 "nbformat": 4,
 "nbformat_minor": 2
}
