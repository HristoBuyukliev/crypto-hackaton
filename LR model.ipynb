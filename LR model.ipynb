{
 "cells": [
  {
   "cell_type": "code",
   "execution_count": 21,
   "metadata": {},
   "outputs": [],
   "source": [
    "import pandas as pd\n",
    "import numpy as np\n",
    "import matplotlib.pyplot as plt\n",
    "%matplotlib inline\n",
    "from sklearn.linear_model import LinearRegression, ElasticNet\n",
    "from xgboost import XGBRegressor\n",
    "from math import sqrt"
   ]
  },
  {
   "cell_type": "markdown",
   "metadata": {},
   "source": [
    "### Load data:"
   ]
  },
  {
   "cell_type": "code",
   "execution_count": 2,
   "metadata": {},
   "outputs": [],
   "source": [
    "cleaned = pd.read_csv('data/cleaned.csv', parse_dates = ['time'])\n",
    "cleaned.drop(columns = ['Unnamed: 0'], axis=1, inplace=True)"
   ]
  },
  {
   "cell_type": "markdown",
   "metadata": {},
   "source": [
    "### fit LR model:"
   ]
  },
  {
   "cell_type": "code",
   "execution_count": 3,
   "metadata": {},
   "outputs": [],
   "source": [
    "start_test_date = '2018-03-01'"
   ]
  },
  {
   "cell_type": "code",
   "execution_count": 4,
   "metadata": {},
   "outputs": [],
   "source": [
    "numeric_columns = [col for col in cleaned.columns if col not in ['time', 'target', 'refID_coin']]"
   ]
  },
  {
   "cell_type": "code",
   "execution_count": 5,
   "metadata": {},
   "outputs": [],
   "source": [
    "def mape_error(actual, forecasted):\n",
    "    actual = pd.Series(actual)\n",
    "    forecasted = pd.Series(forecasted)\n",
    "    return 100 * sum(abs((actual - forecasted) / actual)) / actual.size\n",
    "\n",
    "def ds_error(actual, forecasted):\n",
    "    actual = pd.Series(actual)\n",
    "    forecasted = pd.Series(forecasted)\n",
    "    signs = (actual - actual.shift(1)) * (forecasted - forecasted.shift(1)) > 0\n",
    "    print(signs.mean())\n",
    "    return 100 * sum((actual - actual.shift(1)) * (forecasted - forecasted.shift(1)) > 0) / (actual.size - 1)\n",
    "\n",
    "def mape_var_coeff(mape_errors):\n",
    "    mape_errors = pd.Series(mape_errors)\n",
    "    mean_mape_error = mape_errors.mean()\n",
    "    return sqrt(sum((mape_errors - mean_mape_error)**2) / (mape_errors.size - 1)) / mean_mape_error"
   ]
  },
  {
   "cell_type": "code",
   "execution_count": 23,
   "metadata": {},
   "outputs": [
    {
     "name": "stdout",
     "output_type": "stream",
     "text": [
      "Bitcoin\n",
      "0.013070947486163 0.013066761997740546\n",
      "0.29990757855822553\n",
      "29.995378215991373 50\n",
      "Ethereum\n",
      "0.019015188270222787 0.01897738551731397\n",
      "0.29390018484288355\n",
      "29.39454629486982 50\n",
      "Ripple\n",
      "0.132048352791469 0.13160491666959184\n",
      "0.2720271102895872\n",
      "27.20690186411955 50\n"
     ]
    }
   ],
   "source": [
    "for coin in cleaned.refID_coin.unique():\n",
    "    print(coin)\n",
    "    train = cleaned[(cleaned.time <= start_test_date) & \n",
    "                             (cleaned.refID_coin == coin)].tail(-3)\n",
    "    test  = cleaned[(cleaned.time > start_test_date) & \n",
    "                             (cleaned.refID_coin == coin)].head(-12)\n",
    "    X_train = train[numeric_columns].values\n",
    "    X_test = test[numeric_columns].values\n",
    "    y_train = train.target.values - train.price.values\n",
    "    y_test = test.target.values - test.price.values\n",
    "\n",
    "    lr = ElasticNet(normalize=True)\n",
    "    lr.fit(X_train, y_train)\n",
    "    y_pred = lr.predict(X_test) + test.price.values\n",
    "    y_pred_random_walk = test.price.values\n",
    "    y_test = y_test + test.price.values\n",
    "    \n",
    "#     xgb = XGBRegressor()\n",
    "#     xgb.fit(X_train, y_train)\n",
    "#     y_pred = xgb.predict(X_test) + test.price.values\n",
    "#     y_pred_random_walk = test.price.values\n",
    "#     y_test = y_test + test.price.values\n",
    "    \n",
    "    print(mape_error(y_pred, y_test), mape_error(y_pred_random_walk, y_test))\n",
    "    print(ds_error(y_pred, y_test), 50)"
   ]
  },
  {
   "cell_type": "code",
   "execution_count": 25,
   "metadata": {},
   "outputs": [
    {
     "data": {
      "text/plain": [
       "(array([ 433.,    0.,    0.,    0.,    0.,    0.,    0.,    0.,    0.,\n",
       "           0.,    0.,    0.,    0.,    0.,    0.,    0.,    0.,    0.,\n",
       "           0.,    0.,    0.,    0.,    0.,    0.,    0.,    0.,    0.,\n",
       "           0.,    0.,    0.,    0.,    0.,    0.,    0.,    0.,    0.,\n",
       "           0.,    0.,    0.,    0.,    0.,    0.,    0.,    0.,    0.,\n",
       "           0.,    0.,    0.,    0.,    0.,    0.,    0.,    0.,    0.,\n",
       "           0.,    0.,    0.,    0.,    0.,    0.,    0.,    0.,    0.,\n",
       "           0.,    0.,    0.,    0.,    0.,    0.,    0.,    0.,    0.,\n",
       "           0.,    0.,    0.,    0.,    0.,    0.,    0.,    0.,    0.,\n",
       "           0.,    0.,    0.,    0.,    0.,    0.,    0.,    0.,    0.,\n",
       "           0.,    0.,    0.,    0.,    0.,    0.,    0.,    0.,    0.,\n",
       "        6059.]),\n",
       " array([-8.94173707e-06, -8.94173707e-06, -8.94173707e-06, -8.94173707e-06,\n",
       "        -8.94173707e-06, -8.94173707e-06, -8.94173707e-06, -8.94173707e-06,\n",
       "        -8.94173707e-06, -8.94173707e-06, -8.94173707e-06, -8.94173707e-06,\n",
       "        -8.94173707e-06, -8.94173707e-06, -8.94173707e-06, -8.94173707e-06,\n",
       "        -8.94173707e-06, -8.94173707e-06, -8.94173707e-06, -8.94173707e-06,\n",
       "        -8.94173707e-06, -8.94173707e-06, -8.94173707e-06, -8.94173707e-06,\n",
       "        -8.94173707e-06, -8.94173707e-06, -8.94173707e-06, -8.94173707e-06,\n",
       "        -8.94173707e-06, -8.94173707e-06, -8.94173707e-06, -8.94173707e-06,\n",
       "        -8.94173707e-06, -8.94173707e-06, -8.94173707e-06, -8.94173707e-06,\n",
       "        -8.94173707e-06, -8.94173707e-06, -8.94173707e-06, -8.94173707e-06,\n",
       "        -8.94173707e-06, -8.94173707e-06, -8.94173707e-06, -8.94173707e-06,\n",
       "        -8.94173707e-06, -8.94173707e-06, -8.94173707e-06, -8.94173707e-06,\n",
       "        -8.94173707e-06, -8.94173707e-06, -8.94173707e-06, -8.94173707e-06,\n",
       "        -8.94173707e-06, -8.94173707e-06, -8.94173707e-06, -8.94173707e-06,\n",
       "        -8.94173707e-06, -8.94173707e-06, -8.94173707e-06, -8.94173707e-06,\n",
       "        -8.94173707e-06, -8.94173707e-06, -8.94173707e-06, -8.94173707e-06,\n",
       "        -8.94173707e-06, -8.94173707e-06, -8.94173707e-06, -8.94173707e-06,\n",
       "        -8.94173707e-06, -8.94173707e-06, -8.94173707e-06, -8.94173707e-06,\n",
       "        -8.94173707e-06, -8.94173707e-06, -8.94173707e-06, -8.94173707e-06,\n",
       "        -8.94173707e-06, -8.94173707e-06, -8.94173707e-06, -8.94173707e-06,\n",
       "        -8.94173707e-06, -8.94173707e-06, -8.94173707e-06, -8.94173707e-06,\n",
       "        -8.94173707e-06, -8.94173707e-06, -8.94173707e-06, -8.94173707e-06,\n",
       "        -8.94173707e-06, -8.94173707e-06, -8.94173707e-06, -8.94173707e-06,\n",
       "        -8.94173707e-06, -8.94173707e-06, -8.94173707e-06, -8.94173707e-06,\n",
       "        -8.94173707e-06, -8.94173707e-06, -8.94173707e-06, -8.94173707e-06,\n",
       "        -8.94173707e-06]),\n",
       " <a list of 100 Patch objects>)"
      ]
     },
     "execution_count": 25,
     "metadata": {},
     "output_type": "execute_result"
    },
    {
     "data": {
      "image/png": "[encoded data removed]",
      "text/plain": [
       "<matplotlib.figure.Figure at 0x7fd9401468d0>"
      ]
     },
     "metadata": {},
     "output_type": "display_data"
    }
   ],
   "source": [
    "plt.hist((y_pred - y_pred_random_walk), bins=100)"
   ]
  },
  {
   "cell_type": "code",
   "execution_count": null,
   "metadata": {},
   "outputs": [],
   "source": [
    "lr.coef_"
   ]
  },
  {
   "cell_type": "code",
   "execution_count": 10,
   "metadata": {},
   "outputs": [
    {
     "data": {
      "text/plain": [
       "[(-0.3149041795662705, 'price'),\n",
       " (-0.022733798388935075, 'marketCap'),\n",
       " (-2.365545737626227, 'CirculatingSupply'),\n",
       " (-8.466764458734885e-05, 'Volume24h'),\n",
       " (0.00016087191608439577, 'Movement1h'),\n",
       " (-3.5635205099734946e-06, 'Movement24h'),\n",
       " (2.865534642948366, 'percent_market_cap'),\n",
       " (-0.01061072103415625, 'market_entropy'),\n",
       " (0.04750293919570042, 'total_market_cap'),\n",
       " (1.9734148633244923, 'price_MA_2'),\n",
       " (-6.1372389432482715, 'price_MA_4'),\n",
       " (22.74572455713342, 'price_MA_8'),\n",
       " (-57.62940901332559, 'price_MA_12'),\n",
       " (63.157790866461134, 'price_MA_16'),\n",
       " (-37.418264073599836, 'price_MA_24'),\n",
       " (21.1811021162237, 'price_MA_36'),\n",
       " (-8.499686018976593, 'price_MA_48'),\n",
       " (0.8984999601910295, 'price_MA_72'),\n",
       " (-0.018549154791938305, 'price_MA_144'),\n",
       " (0.015701489717999673, 'price_MA_288'),\n",
       " (-0.02369550602773507, 'price_MA_1440'),\n",
       " (10.21354836150267, 'CirculatingSupply_MA_2'),\n",
       " (-27.846259194161846, 'CirculatingSupply_MA_4'),\n",
       " (13.670672931904283, 'CirculatingSupply_MA_8'),\n",
       " (171.0234933926409, 'CirculatingSupply_MA_12'),\n",
       " (-393.8912330074515, 'CirculatingSupply_MA_16'),\n",
       " (471.1093448929593, 'CirculatingSupply_MA_24'),\n",
       " (-503.31145244591795, 'CirculatingSupply_MA_36'),\n",
       " (337.5263162158384, 'CirculatingSupply_MA_48'),\n",
       " (-85.95004409279821, 'CirculatingSupply_MA_72'),\n",
       " (11.66966580200009, 'CirculatingSupply_MA_144'),\n",
       " (-1.9980208354003128, 'CirculatingSupply_MA_288'),\n",
       " (-0.017758967375385737, 'CirculatingSupply_MA_1440'),\n",
       " (-13.179305587089829, 'percent_market_cap_MA_2'),\n",
       " (33.412507999365175, 'percent_market_cap_MA_4'),\n",
       " (-110.9999940847842, 'percent_market_cap_MA_8'),\n",
       " (268.68613551794044, 'percent_market_cap_MA_12'),\n",
       " (-287.4631169289312, 'percent_market_cap_MA_16'),\n",
       " (171.6431601466815, 'percent_market_cap_MA_24'),\n",
       " (-111.25605809705168, 'percent_market_cap_MA_36'),\n",
       " (58.237060853432865, 'percent_market_cap_MA_48'),\n",
       " (-13.421115717307828, 'percent_market_cap_MA_72'),\n",
       " (2.43820425213994, 'percent_market_cap_MA_144'),\n",
       " (-0.7411500110358133, 'percent_market_cap_MA_288'),\n",
       " (0.277058052200843, 'percent_market_cap_MA_1440'),\n",
       " (0.0009183815329336653, 'price_MA_VAR_2'),\n",
       " (0.0009183554846181607, 'price_MA_VAR_4'),\n",
       " (0.0009183742284868401, 'price_MA_VAR_8'),\n",
       " (0.0009183859043915277, 'price_MA_VAR_12'),\n",
       " (0.0009183478766559006, 'price_MA_VAR_16'),\n",
       " (0.000918368320576235, 'price_MA_VAR_24'),\n",
       " (0.0009184174874938833, 'price_MA_VAR_36'),\n",
       " (0.0009183813631601367, 'price_MA_VAR_48'),\n",
       " (0.0009183802340295699, 'price_MA_VAR_72'),\n",
       " (0.0009183738594273905, 'price_MA_VAR_144'),\n",
       " (0.0009183652659636721, 'price_MA_VAR_288'),\n",
       " (0.0009183634277647457, 'price_MA_VAR_1440'),\n",
       " (0.43777000324835313, 'CirculatingSupply_MA_VAR_2'),\n",
       " (0.4377700032677758, 'CirculatingSupply_MA_VAR_4'),\n",
       " (0.43777000099802166, 'CirculatingSupply_MA_VAR_8'),\n",
       " (0.4377700068382424, 'CirculatingSupply_MA_VAR_12'),\n",
       " (0.4377700026218534, 'CirculatingSupply_MA_VAR_16'),\n",
       " (0.43777000367670027, 'CirculatingSupply_MA_VAR_24'),\n",
       " (0.4377700042001642, 'CirculatingSupply_MA_VAR_36'),\n",
       " (0.4377700019391604, 'CirculatingSupply_MA_VAR_48'),\n",
       " (0.4377700032861256, 'CirculatingSupply_MA_VAR_72'),\n",
       " (0.4377699964499513, 'CirculatingSupply_MA_VAR_144'),\n",
       " (0.43777000311814973, 'CirculatingSupply_MA_VAR_288'),\n",
       " (0.43777000324916315, 'CirculatingSupply_MA_VAR_1440'),\n",
       " (0.002923727625727679, 'percent_market_cap_MA_VAR_2'),\n",
       " (0.0029237305615232856, 'percent_market_cap_MA_VAR_4'),\n",
       " (0.0029237202740830526, 'percent_market_cap_MA_VAR_8'),\n",
       " (0.002923727786225072, 'percent_market_cap_MA_VAR_12'),\n",
       " (0.002923719838715755, 'percent_market_cap_MA_VAR_16'),\n",
       " (0.002923719873145103, 'percent_market_cap_MA_VAR_24'),\n",
       " (0.002923719612649478, 'percent_market_cap_MA_VAR_36'),\n",
       " (0.0029237196312656977, 'percent_market_cap_MA_VAR_48'),\n",
       " (0.0029237196312656977, 'percent_market_cap_MA_VAR_72'),\n",
       " (0.002923734557384705, 'percent_market_cap_MA_VAR_144'),\n",
       " (0.002923733819311991, 'percent_market_cap_MA_VAR_288'),\n",
       " (0.0029237523053744496, 'percent_market_cap_MA_VAR_1440')]"
      ]
     },
     "execution_count": 10,
     "metadata": {},
     "output_type": "execute_result"
    }
   ],
   "source": [
    "list(zip(lr.coef_, numeric_columns))"
   ]
  }
 ],
 "metadata": {
  "kernelspec": {
   "display_name": "Python 3",
   "language": "python",
   "name": "python3"
  },
  "language_info": {
   "codemirror_mode": {
    "name": "ipython",
    "version": 3
   },
   "file_extension": ".py",
   "mimetype": "text/x-python",
   "name": "python",
   "nbconvert_exporter": "python",
   "pygments_lexer": "ipython3",
   "version": "3.5.2"
  }
 },
 "nbformat": 4,
 "nbformat_minor": 2
}
