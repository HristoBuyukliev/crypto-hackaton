{
 "cells": [
  {
   "cell_type": "code",
   "execution_count": 10,
   "metadata": {},
   "outputs": [],
   "source": [
    "import pandas as pd\n",
    "import numpy as np\n",
    "import matplotlib.pyplot as plt\n",
    "%matplotlib inline\n",
    "from sklearn.linear_model import LinearRegression, ElasticNetCV, ElasticNet\n",
    "from xgboost import XGBRegressor\n",
    "from math import sqrt\n",
    "from ggplot import *"
   ]
  },
  {
   "cell_type": "markdown",
   "metadata": {},
   "source": [
    "### Load data:"
   ]
  },
  {
   "cell_type": "code",
   "execution_count": 2,
   "metadata": {},
   "outputs": [],
   "source": [
    "cleaned = pd.read_csv('data/cleaned.csv', parse_dates = ['time'])\n",
    "cleaned.drop(columns = ['Unnamed: 0'], axis=1, inplace=True)"
   ]
  },
  {
   "cell_type": "markdown",
   "metadata": {},
   "source": [
    "### fit LR model:"
   ]
  },
  {
   "cell_type": "code",
   "execution_count": 3,
   "metadata": {},
   "outputs": [],
   "source": [
    "start_test_date = '2018-03-01'"
   ]
  },
  {
   "cell_type": "code",
   "execution_count": 4,
   "metadata": {},
   "outputs": [],
   "source": [
    "numeric_columns = [col for col in cleaned.columns if col not in ['time', 'target', 'refID_coin']]"
   ]
  },
  {
   "cell_type": "code",
   "execution_count": 5,
   "metadata": {},
   "outputs": [],
   "source": [
    "def mape_error(actual, forecasted):\n",
    "    actual = pd.Series(actual)\n",
    "    forecasted = pd.Series(forecasted)\n",
    "    return 100 * sum(abs((actual - forecasted) / actual)) / actual.size\n",
    "\n",
    "def ds_error(actual, forecasted):\n",
    "    actual = pd.Series(actual)\n",
    "    forecasted = pd.Series(forecasted)\n",
    "    signs = (actual - actual.shift(1)) * (forecasted - forecasted.shift(1)) > 0\n",
    "    return 100 * sum((actual - actual.shift(1)) * (forecasted - forecasted.shift(1)) > 0) / (actual.size - 1)\n",
    "\n",
    "def mape_var_coeff(mape_errors):\n",
    "    mape_errors = pd.Series(mape_errors)\n",
    "    mean_mape_error = mape_errors.mean()\n",
    "    return sqrt(sum((mape_errors - mean_mape_error)**2) / (mape_errors.size - 1)) / mean_mape_error"
   ]
  },
  {
   "cell_type": "code",
   "execution_count": 26,
   "metadata": {},
   "outputs": [
    {
     "name": "stdout",
     "output_type": "stream",
     "text": [
      "Bitcoin\n",
      "0.11926604863281061 0.11922249359209515\n",
      "39.81851737926792 29.990772070132266\n",
      "Ethereum\n",
      "0.12334752386134447 0.12301136305073479\n",
      "38.92648415872039 29.40633651184251\n",
      "Ripple\n",
      "0.17365914339436406 0.1729989603698134\n",
      "27.191633343586588 27.191633343586588\n"
     ]
    }
   ],
   "source": [
    "for coin in cleaned.refID_coin.unique():\n",
    "    print(coin)\n",
    "    train = cleaned[(cleaned.time <= start_test_date) & \n",
    "                             (cleaned.refID_coin == coin)].tail(-3)\n",
    "    test  = cleaned[(cleaned.time > start_test_date) & \n",
    "                             (cleaned.refID_coin == coin)].head(-1)\n",
    "    X_train = train[numeric_columns].values\n",
    "    X_test = test[numeric_columns].values\n",
    "    y_train = train.target.values - train.price.values\n",
    "    y_test = test.target.values - test.price.values\n",
    "    \n",
    "    lr = ElasticNet(alpha=0.1, normalize=True)\n",
    "    lr.fit(X_train, y_train*100)\n",
    "    y_pred = lr.predict(X_test)/100 + test.price.values\n",
    "#     print(lr.predict(X_test).mean(), lr.predict(X_test).std())\n",
    "    y_pred_random_walk = test.price.values\n",
    "    y_test = y_test + test.price.values\n",
    "    \n",
    "#     xgb = XGBRegressor()\n",
    "#     xgb.fit(X_train, y_train)\n",
    "#     y_pred = xgb.predict(X_test) + test.price.values\n",
    "#     y_pred_random_walk = test.price.values\n",
    "#     y_test = test.target.values\n",
    "    \n",
    "    print(mape_error(y_test, y_pred), mape_error(y_test, y_pred_random_walk))\n",
    "    print(ds_error(y_pred, y_test), ds_error(y_pred_random_walk, y_test))"
   ]
  },
  {
   "cell_type": "code",
   "execution_count": 22,
   "metadata": {},
   "outputs": [],
   "source": [
    "ElasticNet?"
   ]
  },
  {
   "cell_type": "code",
   "execution_count": 23,
   "metadata": {},
   "outputs": [
    {
     "data": {
      "text/plain": [
       "[(-0.0, 'price'),\n",
       " (-0.0, 'marketCap'),\n",
       " (0.0, 'CirculatingSupply'),\n",
       " (0.0, 'Volume24h'),\n",
       " (0.0, 'Movement1h'),\n",
       " (0.0, 'Movement24h'),\n",
       " (0.0, 'percent_market_cap'),\n",
       " (-0.0, 'market_entropy'),\n",
       " (-0.0, 'total_market_cap'),\n",
       " (-0.0, 'price_MA_2'),\n",
       " (-0.0, 'price_MA_4'),\n",
       " (-0.0, 'price_MA_8'),\n",
       " (-0.0, 'price_MA_12'),\n",
       " (-0.0, 'price_MA_16'),\n",
       " (-0.0, 'price_MA_24'),\n",
       " (-0.0, 'price_MA_36'),\n",
       " (-0.0, 'price_MA_48'),\n",
       " (-0.0, 'price_MA_72'),\n",
       " (-0.0, 'price_MA_144'),\n",
       " (-0.0, 'price_MA_288'),\n",
       " (-0.0, 'price_MA_1440'),\n",
       " (0.0, 'CirculatingSupply_MA_2'),\n",
       " (0.0, 'CirculatingSupply_MA_4'),\n",
       " (0.0, 'CirculatingSupply_MA_8'),\n",
       " (0.0, 'CirculatingSupply_MA_12'),\n",
       " (0.0, 'CirculatingSupply_MA_16'),\n",
       " (0.0, 'CirculatingSupply_MA_24'),\n",
       " (0.0, 'CirculatingSupply_MA_36'),\n",
       " (0.0, 'CirculatingSupply_MA_48'),\n",
       " (0.0, 'CirculatingSupply_MA_72'),\n",
       " (0.0, 'CirculatingSupply_MA_144'),\n",
       " (0.0, 'CirculatingSupply_MA_288'),\n",
       " (0.0, 'CirculatingSupply_MA_1440'),\n",
       " (-0.0, 'percent_market_cap_MA_2'),\n",
       " (-0.0, 'percent_market_cap_MA_4'),\n",
       " (-0.0, 'percent_market_cap_MA_8'),\n",
       " (-0.0, 'percent_market_cap_MA_12'),\n",
       " (-0.0, 'percent_market_cap_MA_16'),\n",
       " (-0.0, 'percent_market_cap_MA_24'),\n",
       " (-0.0, 'percent_market_cap_MA_36'),\n",
       " (-0.0, 'percent_market_cap_MA_48'),\n",
       " (-0.0, 'percent_market_cap_MA_72'),\n",
       " (-0.0, 'percent_market_cap_MA_144'),\n",
       " (-0.0, 'percent_market_cap_MA_288'),\n",
       " (-0.0, 'percent_market_cap_MA_1440'),\n",
       " (0.0, 'price_MA_VAR_2'),\n",
       " (0.0, 'price_MA_VAR_4'),\n",
       " (0.0, 'price_MA_VAR_8'),\n",
       " (0.0, 'price_MA_VAR_12'),\n",
       " (0.0, 'price_MA_VAR_16'),\n",
       " (0.0, 'price_MA_VAR_24'),\n",
       " (0.0, 'price_MA_VAR_36'),\n",
       " (0.0, 'price_MA_VAR_48'),\n",
       " (0.0, 'price_MA_VAR_72'),\n",
       " (0.0, 'price_MA_VAR_144'),\n",
       " (0.0, 'price_MA_VAR_288'),\n",
       " (0.0, 'price_MA_VAR_1440'),\n",
       " (-0.0, 'CirculatingSupply_MA_VAR_2'),\n",
       " (-0.0, 'CirculatingSupply_MA_VAR_4'),\n",
       " (-0.0, 'CirculatingSupply_MA_VAR_8'),\n",
       " (-0.0, 'CirculatingSupply_MA_VAR_12'),\n",
       " (-0.0, 'CirculatingSupply_MA_VAR_16'),\n",
       " (-0.0, 'CirculatingSupply_MA_VAR_24'),\n",
       " (-0.0, 'CirculatingSupply_MA_VAR_36'),\n",
       " (-0.0, 'CirculatingSupply_MA_VAR_48'),\n",
       " (-0.0, 'CirculatingSupply_MA_VAR_72'),\n",
       " (-0.0, 'CirculatingSupply_MA_VAR_144'),\n",
       " (-0.0, 'CirculatingSupply_MA_VAR_288'),\n",
       " (-0.0, 'CirculatingSupply_MA_VAR_1440'),\n",
       " (0.0, 'percent_market_cap_MA_VAR_2'),\n",
       " (0.0, 'percent_market_cap_MA_VAR_4'),\n",
       " (0.0, 'percent_market_cap_MA_VAR_8'),\n",
       " (0.0, 'percent_market_cap_MA_VAR_12'),\n",
       " (0.0, 'percent_market_cap_MA_VAR_16'),\n",
       " (0.0, 'percent_market_cap_MA_VAR_24'),\n",
       " (0.0, 'percent_market_cap_MA_VAR_36'),\n",
       " (0.0, 'percent_market_cap_MA_VAR_48'),\n",
       " (0.0, 'percent_market_cap_MA_VAR_72'),\n",
       " (0.0, 'percent_market_cap_MA_VAR_144'),\n",
       " (0.0, 'percent_market_cap_MA_VAR_288'),\n",
       " (0.0, 'percent_market_cap_MA_VAR_1440'),\n",
       " (0.0, 'trend_price_12'),\n",
       " (0.0, 'trend_price_24'),\n",
       " (0.0, 'trend_price_48'),\n",
       " (0.0, 'trend_price_96'),\n",
       " (0.0, 'trend_price_144'),\n",
       " (0.0, 'trend_price_288'),\n",
       " (0.0, 'trend_price_1'),\n",
       " (0.0, 'trend_price_2'),\n",
       " (0.0, 'trend_price_4'),\n",
       " (0.0, 'trend_price_6')]"
      ]
     },
     "execution_count": 23,
     "metadata": {},
     "output_type": "execute_result"
    }
   ],
   "source": [
    "list(zip(lr.coef_, numeric_columns))"
   ]
  }
 ],
 "metadata": {
  "kernelspec": {
   "display_name": "Python 3",
   "language": "python",
   "name": "python3"
  },
  "language_info": {
   "codemirror_mode": {
    "name": "ipython",
    "version": 3
   },
   "file_extension": ".py",
   "mimetype": "text/x-python",
   "name": "python",
   "nbconvert_exporter": "python",
   "pygments_lexer": "ipython3",
   "version": "3.5.2"
  }
 },
 "nbformat": 4,
 "nbformat_minor": 2
}
