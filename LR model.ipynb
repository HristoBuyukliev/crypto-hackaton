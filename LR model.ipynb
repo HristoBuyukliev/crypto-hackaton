{
 "cells": [
  {
   "cell_type": "code",
   "execution_count": 1,
   "metadata": {},
   "outputs": [],
   "source": [
    "import pandas as pd\n",
    "import numpy as np\n",
    "import matplotlib.pyplot as plt\n",
    "%matplotlib inline\n",
    "from sklearn.linear_model import LinearRegression\n",
    "from math import sqrt"
   ]
  },
  {
   "cell_type": "markdown",
   "metadata": {},
   "source": [
    "### Load data:"
   ]
  },
  {
   "cell_type": "code",
   "execution_count": 24,
   "metadata": {},
   "outputs": [],
   "source": [
    "cleaned = pd.read_csv('data/cleaned.csv')\n",
    "cleaned.drop(columns = ['Unnamed: 0'], axis=1, inplace=True)"
   ]
  },
  {
   "cell_type": "markdown",
   "metadata": {},
   "source": [
    "### fit LR model:"
   ]
  },
  {
   "cell_type": "code",
   "execution_count": 3,
   "metadata": {},
   "outputs": [],
   "source": [
    "start_test_date = '2018-03-01'"
   ]
  },
  {
   "cell_type": "code",
   "execution_count": 5,
   "metadata": {},
   "outputs": [],
   "source": [
    "numeric_columns = [col for col in cleaned.columns if col not in ['time', 'target', 'refID_coin']]"
   ]
  },
  {
   "cell_type": "code",
   "execution_count": 6,
   "metadata": {},
   "outputs": [],
   "source": [
    "def mape_error(actual, forecasted):\n",
    "    actual = pd.Series(actual)\n",
    "    forecasted = pd.Series(forecasted)\n",
    "    return 100 * sum(abs((actual - forecasted) / actual)) / actual.size\n",
    "\n",
    "def ds_error(actual, forecasted):\n",
    "    actual = pd.Series(actual)\n",
    "    forecasted = pd.Series(forecasted)\n",
    "    return 100 * sum((actual - actual.shift(1)) * (forecasted - forecasted.shift(1)) > 0) / (actual.size - 1)\n",
    "\n",
    "def mape_var_coeff(mape_errors):\n",
    "    mape_errors = pd.Series(mape_errors)\n",
    "    mean_mape_error = mape_errors.mean()\n",
    "    return sqrt(sum((mape_errors - mean_mape_error)**2) / (mape_errors.size - 1)) / mean_mape_error"
   ]
  },
  {
   "cell_type": "code",
   "execution_count": 29,
   "metadata": {},
   "outputs": [],
   "source": [
    "regex = \"price|marketCap|CirculatingSupply|Volume24h|market_entropy|total_market_cap|target\"\n",
    "log_cols = cleaned.filter(regex = regex).columns"
   ]
  },
  {
   "cell_type": "code",
   "execution_count": 30,
   "metadata": {},
   "outputs": [],
   "source": [
    "cleaned.loc[:, log_cols] = np.log(cleaned.loc[:, log_cols].values+1)"
   ]
  },
  {
   "cell_type": "code",
   "execution_count": 35,
   "metadata": {},
   "outputs": [
    {
     "name": "stdout",
     "output_type": "stream",
     "text": [
      "Bitcoin\n",
      "(12247, 29) (12247,) (6504, 29) (6504,)\n",
      "0.13751347929618718 0.12282054800128257\n",
      "39.59710902660311 50\n",
      "Ethereum\n",
      "(12247, 29) (12247,) (6504, 29) (6504,)\n",
      "0.38284069713747015 0.20657005931644828\n",
      "38.274642472704905 50\n",
      "Ripple\n",
      "(12247, 29) (12247,) (6504, 29) (6504,)\n",
      "0.3974707640320253 55.8475361674998\n",
      "36.552360449023524 50\n",
      "Bitcoin Cash\n",
      "(12247, 29) (12247,) (6504, 29) (6504,)\n",
      "0.2632186874457408 0.21173898787885811\n",
      "36.06027987082885 50\n",
      "Cardano\n",
      "(12247, 29) (12247,) (6504, 29) (6504,)\n",
      "0.311998188603823 81.52431120454588\n",
      "32.43118560664309 50\n",
      "Litecoin\n",
      "(12247, 29) (12247,) (6504, 29) (6504,)\n",
      "0.23101619168151363 0.5765462676347342\n",
      "36.72151314777795 50\n",
      "NEMcoin\n",
      "(12247, 29) (12247,) (6504, 29) (6504,)\n",
      "0.4954002752292457 74.25997157336774\n",
      "34.86083346147932 50\n",
      "Neo\n",
      "(12247, 29) (12247,) (6504, 29) (6504,)\n",
      "0.9492046421078465 1.1858256882613987\n",
      "35.56819929263417 50\n",
      "Stellar\n",
      "(12247, 29) (12247,) (6504, 29) (6504,)\n",
      "0.556063836192398 77.80207868214117\n",
      "35.337536521605415 50\n",
      "Iota\n",
      "(12247, 29) (12247,) (6504, 29) (6504,)\n",
      "0.33861415396864897 41.218689761903285\n",
      "12.271259418729818 50\n",
      "Dash\n",
      "(12247, 29) (12247,) (6504, 29) (6504,)\n",
      "0.3113336116467062 0.26564231388168397\n",
      "35.475934184222666 50\n",
      "Eos\n",
      "(12247, 29) (12247,) (6504, 29) (6504,)\n",
      "0.5968392576292382 13.873284819934373\n",
      "27.264339535598953 50\n",
      "Monero\n",
      "(12247, 29) (12247,) (6504, 29) (6504,)\n",
      "0.22979916188712243 0.444975090580783\n",
      "37.936337075196064 50\n",
      "Tron\n",
      "(12247, 29) (12247,) (6504, 29) (6504,)\n",
      "0.9490609805880378 96.35583821175922\n",
      "34.73781331693065 50\n",
      "Bitcoin Gold\n",
      "(12247, 29) (12247,) (6504, 29) (6504,)\n",
      "0.7645740930013705 1.2619702655082563\n",
      "33.09241888359219 50\n",
      "Ethereum Classic\n",
      "(12247, 29) (12247,) (6504, 29) (6504,)\n",
      "0.6468592735513351 4.4530057973939465\n",
      "35.399046593879746 50\n",
      "Lisk\n",
      "(12247, 29) (12247,) (6504, 29) (6504,)\n",
      "0.7273055668408943 6.4151536817204535\n",
      "29.23266184837767 50\n",
      "Tether\n",
      "(12247, 29) (12247,) (6504, 29) (6504,)\n",
      "0.17888347014581546 50.010357014310735\n",
      "15.900353682915577 50\n",
      "Zcash\n",
      "(12247, 29) (12247,) (6504, 29) (6504,)\n",
      "0.36762300084663635 0.3890090115102065\n",
      "34.799323389204986 50\n",
      "Dogecoin\n",
      "(12247, 29) (12247,) (6504, 29) (6504,)\n",
      "0.35230421479637636 99.57952634274709\n",
      "28.571428571428573 50\n"
     ]
    }
   ],
   "source": [
    "for coin in cleaned.refID_coin.unique():\n",
    "    print(coin)\n",
    "    train = cleaned[(cleaned.time <= start_test_date) & \n",
    "                             (cleaned.refID_coin == coin)]\n",
    "    test  = cleaned[(cleaned.time > start_test_date) & \n",
    "                             (cleaned.refID_coin == coin)].head(-1)\n",
    "    X_train = train[numeric_columns].values\n",
    "    X_test = test[numeric_columns].values\n",
    "    y_train = train.target.values\n",
    "    y_test = test.target.values\n",
    "    print(X_train.shape, y_train.shape, X_test.shape, y_test.shape)\n",
    "    \n",
    "\n",
    "    lr = LinearRegression()\n",
    "    lr.fit(X_train, y_train)\n",
    "    y_pred = np.exp(lr.predict(X_test))-1\n",
    "    y_pred_random_walk = np.exp(test.price.values)\n",
    "    y_test = np.exp(y_test)-1\n",
    "    \n",
    "    print(mape_error(y_pred, y_test), mape_error(y_pred_random_walk, y_test))\n",
    "    print(ds_error(y_pred, y_test), 50)"
   ]
  }
 ],
 "metadata": {
  "kernelspec": {
   "display_name": "Python 3",
   "language": "python",
   "name": "python3"
  },
  "language_info": {
   "codemirror_mode": {
    "name": "ipython",
    "version": 3
   },
   "file_extension": ".py",
   "mimetype": "text/x-python",
   "name": "python",
   "nbconvert_exporter": "python",
   "pygments_lexer": "ipython3",
   "version": "3.5.2"
  }
 },
 "nbformat": 4,
 "nbformat_minor": 2
}
