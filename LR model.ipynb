{
 "cells": [
  {
   "cell_type": "code",
   "execution_count": 1,
   "metadata": {},
   "outputs": [],
   "source": [
    "import pandas as pd\n",
    "import numpy as np\n",
    "import matplotlib.pyplot as plt\n",
    "%matplotlib inline\n",
    "from sklearn.linear_model import LinearRegression, ElasticNetCV, ElasticNet\n",
    "from xgboost import XGBRegressor\n",
    "from math import sqrt\n",
    "import os"
   ]
  },
  {
   "cell_type": "markdown",
   "metadata": {},
   "source": [
    "### Load data:"
   ]
  },
  {
   "cell_type": "code",
   "execution_count": 2,
   "metadata": {},
   "outputs": [],
   "source": [
    "cleaned = pd.read_csv('data/cleaned.csv', parse_dates = ['time'])\n",
    "cleaned.drop(columns = ['Unnamed: 0'], axis=1, inplace=True)"
   ]
  },
  {
   "cell_type": "markdown",
   "metadata": {},
   "source": [
    "### fit LR model:"
   ]
  },
  {
   "cell_type": "code",
   "execution_count": 3,
   "metadata": {},
   "outputs": [],
   "source": [
    "start_test_date = '2018-03-01'"
   ]
  },
  {
   "cell_type": "code",
   "execution_count": 4,
   "metadata": {},
   "outputs": [],
   "source": [
    "numeric_columns = [col for col in cleaned.columns if col not in ['time', 'target', 'refID_coin']]"
   ]
  },
  {
   "cell_type": "code",
   "execution_count": 36,
   "metadata": {},
   "outputs": [],
   "source": [
    "numeric_columns = cleaned.filter(regex = 'MA_VAR').columns"
   ]
  },
  {
   "cell_type": "code",
   "execution_count": 37,
   "metadata": {},
   "outputs": [
    {
     "data": {
      "text/plain": [
       "Index(['price_MA_VAR_2', 'price_MA_VAR_4', 'price_MA_VAR_8', 'price_MA_VAR_12',\n",
       "       'price_MA_VAR_16', 'price_MA_VAR_24', 'price_MA_VAR_36',\n",
       "       'price_MA_VAR_48', 'price_MA_VAR_72', 'price_MA_VAR_144',\n",
       "       'price_MA_VAR_288', 'price_MA_VAR_1440', 'CirculatingSupply_MA_VAR_2',\n",
       "       'CirculatingSupply_MA_VAR_4', 'CirculatingSupply_MA_VAR_8',\n",
       "       'CirculatingSupply_MA_VAR_12', 'CirculatingSupply_MA_VAR_16',\n",
       "       'CirculatingSupply_MA_VAR_24', 'CirculatingSupply_MA_VAR_36',\n",
       "       'CirculatingSupply_MA_VAR_48', 'CirculatingSupply_MA_VAR_72',\n",
       "       'CirculatingSupply_MA_VAR_144', 'CirculatingSupply_MA_VAR_288',\n",
       "       'CirculatingSupply_MA_VAR_1440', 'percent_market_cap_MA_VAR_2',\n",
       "       'percent_market_cap_MA_VAR_4', 'percent_market_cap_MA_VAR_8',\n",
       "       'percent_market_cap_MA_VAR_12', 'percent_market_cap_MA_VAR_16',\n",
       "       'percent_market_cap_MA_VAR_24', 'percent_market_cap_MA_VAR_36',\n",
       "       'percent_market_cap_MA_VAR_48', 'percent_market_cap_MA_VAR_72',\n",
       "       'percent_market_cap_MA_VAR_144', 'percent_market_cap_MA_VAR_288',\n",
       "       'percent_market_cap_MA_VAR_1440'],\n",
       "      dtype='object')"
      ]
     },
     "execution_count": 37,
     "metadata": {},
     "output_type": "execute_result"
    }
   ],
   "source": [
    "numeric_columns"
   ]
  },
  {
   "cell_type": "code",
   "execution_count": 5,
   "metadata": {},
   "outputs": [],
   "source": [
    "def mape_error(actual, forecasted):\n",
    "    actual = pd.Series(actual)\n",
    "    forecasted = pd.Series(forecasted)\n",
    "    return 100 * sum(abs((actual - forecasted) / actual)) / actual.size\n",
    "\n",
    "def ds_error(actual, forecasted):\n",
    "    actual = pd.Series(actual)\n",
    "    forecasted = pd.Series(forecasted)\n",
    "    signs = (actual - actual.shift(1)) * (forecasted - forecasted.shift(1)) > 0\n",
    "    return 100 * sum((actual - actual.shift(1)) * (forecasted - forecasted.shift(1)) > 0) / (actual.size - 1)\n",
    "\n",
    "def mape_var_coeff(mape_errors):\n",
    "    mape_errors = pd.Series(mape_errors)\n",
    "    mean_mape_error = mape_errors.mean()\n",
    "    return sqrt(sum((mape_errors - mean_mape_error)**2) / (mape_errors.size - 1)) / mean_mape_error"
   ]
  },
  {
   "cell_type": "code",
   "execution_count": 40,
   "metadata": {},
   "outputs": [
    {
     "name": "stdout",
     "output_type": "stream",
     "text": [
      "Bitcoin\n",
      "0.12053230475389493 0.11922249359209483\n",
      "39.480159950784376 29.990772070132266\n",
      "Ethereum\n",
      "0.1258331294626563 0.12301136305073541\n",
      "38.91110427560751 29.40633651184251\n",
      "Ripple\n",
      "0.17672608044148905 0.172998960369813\n",
      "37.00399876960935 27.191633343586588\n"
     ]
    }
   ],
   "source": [
    "for coin in cleaned.refID_coin.unique():\n",
    "    print(coin)\n",
    "    train = cleaned[(cleaned.time <= start_test_date) & \n",
    "                             (cleaned.refID_coin == coin)].tail(-3)\n",
    "    test  = cleaned[(cleaned.time > start_test_date) & \n",
    "                             (cleaned.refID_coin == coin)].head(-1)\n",
    "    X_train = train[numeric_columns].values\n",
    "    X_test = test[numeric_columns].values\n",
    "    y_train = train.target.values - train.price.values\n",
    "    y_test = test.target.values - test.price.values\n",
    "    \n",
    "    lr = LinearRegression(normalize=True)\n",
    "    lr.fit(X_train, y_train)\n",
    "    y_pred = np.exp(lr.predict(X_test) + test.price.values)-1\n",
    "    y_pred_random_walk = np.exp(test.price.values) - 1\n",
    "    y_test = np.exp(y_test + test.price.values) - 1\n",
    "    \n",
    "#     xgb = XGBRegressor(n_estimators=20, max_depth=5)\n",
    "#     xgb.fit(X_train, y_train)\n",
    "#     y_pred = xgb.predict(X_test) + test.price.values\n",
    "#     y_pred_random_walk = test.price.values\n",
    "#     y_test = test.target.values\n",
    "    \n",
    "    print(mape_error(y_test, y_pred), mape_error(y_test, y_pred_random_walk))\n",
    "    print(ds_error(y_pred, y_test), ds_error(y_pred_random_walk, y_test))"
   ]
  },
  {
   "cell_type": "code",
   "execution_count": 43,
   "metadata": {},
   "outputs": [],
   "source": [
    "lr.fit?"
   ]
  },
  {
   "cell_type": "code",
   "execution_count": 42,
   "metadata": {},
   "outputs": [
    {
     "data": {
      "text/plain": [
       "[(0.0014543237090469052, 'price_MA_VAR_2'),\n",
       " (-11044525668.204918, 'price_MA_VAR_4'),\n",
       " (4577987391.070144, 'price_MA_VAR_8'),\n",
       " (718504253.0169837, 'price_MA_VAR_12'),\n",
       " (718504253.0167243, 'price_MA_VAR_16'),\n",
       " (718504253.0167785, 'price_MA_VAR_24'),\n",
       " (718504253.016727, 'price_MA_VAR_36'),\n",
       " (718504253.016727, 'price_MA_VAR_48'),\n",
       " (718504253.016727, 'price_MA_VAR_72'),\n",
       " (718504253.016727, 'price_MA_VAR_144'),\n",
       " (718504253.016727, 'price_MA_VAR_288'),\n",
       " (718504253.016727, 'price_MA_VAR_1440'),\n",
       " (282382266235.8168, 'CirculatingSupply_MA_VAR_2'),\n",
       " (2178754056017.8093, 'CirculatingSupply_MA_VAR_4'),\n",
       " (2129371659446.215, 'CirculatingSupply_MA_VAR_8'),\n",
       " (2121296935182.6086, 'CirculatingSupply_MA_VAR_12'),\n",
       " (2144365007316.8203, 'CirculatingSupply_MA_VAR_16'),\n",
       " (-5839523374708.743, 'CirculatingSupply_MA_VAR_24'),\n",
       " (-5839539723668.098, 'CirculatingSupply_MA_VAR_36'),\n",
       " (2196411987285.6023, 'CirculatingSupply_MA_VAR_48'),\n",
       " (2190871734863.8508, 'CirculatingSupply_MA_VAR_72'),\n",
       " (2154821847654.554, 'CirculatingSupply_MA_VAR_144'),\n",
       " (2120681032043.2134, 'CirculatingSupply_MA_VAR_288'),\n",
       " (-5839893427669.745, 'CirculatingSupply_MA_VAR_1440'),\n",
       " (-1032134040.6850542, 'percent_market_cap_MA_VAR_2'),\n",
       " (-3985013518.2646036, 'percent_market_cap_MA_VAR_4'),\n",
       " (5512638971.213525, 'percent_market_cap_MA_VAR_8'),\n",
       " (6199732142.439243, 'percent_market_cap_MA_VAR_12'),\n",
       " (-586092161.3143547, 'percent_market_cap_MA_VAR_16'),\n",
       " (-8656302187.525955, 'percent_market_cap_MA_VAR_24'),\n",
       " (-8159219095.96028, 'percent_market_cap_MA_VAR_36'),\n",
       " (-3988099745.975009, 'percent_market_cap_MA_VAR_48'),\n",
       " (-3985013518.2646036, 'percent_market_cap_MA_VAR_72'),\n",
       " (9327444051.388254, 'percent_market_cap_MA_VAR_144'),\n",
       " (10690744109.04404, 'percent_market_cap_MA_VAR_288'),\n",
       " (-1338685006.1608722, 'percent_market_cap_MA_VAR_1440')]"
      ]
     },
     "execution_count": 42,
     "metadata": {},
     "output_type": "execute_result"
    }
   ],
   "source": [
    "list(zip(lr.coef_, numeric_columns))"
   ]
  },
  {
   "cell_type": "markdown",
   "metadata": {},
   "source": [
    "### Solve sample test files:"
   ]
  },
  {
   "cell_type": "code",
   "execution_count": 8,
   "metadata": {},
   "outputs": [],
   "source": [
    "files = os.listdir('data/test')\n",
    "files = ['/data/test/' + file for file in files]"
   ]
  },
  {
   "cell_type": "code",
   "execution_count": 10,
   "metadata": {},
   "outputs": [
    {
     "ename": "FileNotFoundError",
     "evalue": "File b'/data/test/test_02.csv' does not exist",
     "output_type": "error",
     "traceback": [
      "\u001b[0;31m---------------------------------------------------------------------------\u001b[0m",
      "\u001b[0;31mFileNotFoundError\u001b[0m                         Traceback (most recent call last)",
      "\u001b[0;32m<ipython-input-10-096b419dd8a8>\u001b[0m in \u001b[0;36m<module>\u001b[0;34m()\u001b[0m\n\u001b[1;32m      1\u001b[0m \u001b[0;32mfor\u001b[0m \u001b[0mfile\u001b[0m \u001b[0;32min\u001b[0m \u001b[0mfiles\u001b[0m\u001b[0;34m:\u001b[0m\u001b[0;34m\u001b[0m\u001b[0m\n\u001b[0;32m----> 2\u001b[0;31m     \u001b[0mdata\u001b[0m \u001b[0;34m=\u001b[0m \u001b[0mpd\u001b[0m\u001b[0;34m.\u001b[0m\u001b[0mread_csv\u001b[0m\u001b[0;34m(\u001b[0m\u001b[0mfile\u001b[0m\u001b[0;34m)\u001b[0m\u001b[0;34m\u001b[0m\u001b[0m\n\u001b[0m\u001b[1;32m      3\u001b[0m     \u001b[0mmin_date\u001b[0m \u001b[0;34m=\u001b[0m \u001b[0mdata\u001b[0m\u001b[0;34m.\u001b[0m\u001b[0mdate\u001b[0m\u001b[0;34m.\u001b[0m\u001b[0mmin\u001b[0m\u001b[0;34m(\u001b[0m\u001b[0;34m)\u001b[0m\u001b[0;34m\u001b[0m\u001b[0m\n\u001b[1;32m      4\u001b[0m \u001b[0;34m\u001b[0m\u001b[0m\n",
      "\u001b[0;32m~/mlenv3/lib/python3.5/site-packages/pandas/io/parsers.py\u001b[0m in \u001b[0;36mparser_f\u001b[0;34m(filepath_or_buffer, sep, delimiter, header, names, index_col, usecols, squeeze, prefix, mangle_dupe_cols, dtype, engine, converters, true_values, false_values, skipinitialspace, skiprows, nrows, na_values, keep_default_na, na_filter, verbose, skip_blank_lines, parse_dates, infer_datetime_format, keep_date_col, date_parser, dayfirst, iterator, chunksize, compression, thousands, decimal, lineterminator, quotechar, quoting, escapechar, comment, encoding, dialect, tupleize_cols, error_bad_lines, warn_bad_lines, skipfooter, skip_footer, doublequote, delim_whitespace, as_recarray, compact_ints, use_unsigned, low_memory, buffer_lines, memory_map, float_precision)\u001b[0m\n\u001b[1;32m    707\u001b[0m                     skip_blank_lines=skip_blank_lines)\n\u001b[1;32m    708\u001b[0m \u001b[0;34m\u001b[0m\u001b[0m\n\u001b[0;32m--> 709\u001b[0;31m         \u001b[0;32mreturn\u001b[0m \u001b[0m_read\u001b[0m\u001b[0;34m(\u001b[0m\u001b[0mfilepath_or_buffer\u001b[0m\u001b[0;34m,\u001b[0m \u001b[0mkwds\u001b[0m\u001b[0;34m)\u001b[0m\u001b[0;34m\u001b[0m\u001b[0m\n\u001b[0m\u001b[1;32m    710\u001b[0m \u001b[0;34m\u001b[0m\u001b[0m\n\u001b[1;32m    711\u001b[0m     \u001b[0mparser_f\u001b[0m\u001b[0;34m.\u001b[0m\u001b[0m__name__\u001b[0m \u001b[0;34m=\u001b[0m \u001b[0mname\u001b[0m\u001b[0;34m\u001b[0m\u001b[0m\n",
      "\u001b[0;32m~/mlenv3/lib/python3.5/site-packages/pandas/io/parsers.py\u001b[0m in \u001b[0;36m_read\u001b[0;34m(filepath_or_buffer, kwds)\u001b[0m\n\u001b[1;32m    447\u001b[0m \u001b[0;34m\u001b[0m\u001b[0m\n\u001b[1;32m    448\u001b[0m     \u001b[0;31m# Create the parser.\u001b[0m\u001b[0;34m\u001b[0m\u001b[0;34m\u001b[0m\u001b[0m\n\u001b[0;32m--> 449\u001b[0;31m     \u001b[0mparser\u001b[0m \u001b[0;34m=\u001b[0m \u001b[0mTextFileReader\u001b[0m\u001b[0;34m(\u001b[0m\u001b[0mfilepath_or_buffer\u001b[0m\u001b[0;34m,\u001b[0m \u001b[0;34m**\u001b[0m\u001b[0mkwds\u001b[0m\u001b[0;34m)\u001b[0m\u001b[0;34m\u001b[0m\u001b[0m\n\u001b[0m\u001b[1;32m    450\u001b[0m \u001b[0;34m\u001b[0m\u001b[0m\n\u001b[1;32m    451\u001b[0m     \u001b[0;32mif\u001b[0m \u001b[0mchunksize\u001b[0m \u001b[0;32mor\u001b[0m \u001b[0miterator\u001b[0m\u001b[0;34m:\u001b[0m\u001b[0;34m\u001b[0m\u001b[0m\n",
      "\u001b[0;32m~/mlenv3/lib/python3.5/site-packages/pandas/io/parsers.py\u001b[0m in \u001b[0;36m__init__\u001b[0;34m(self, f, engine, **kwds)\u001b[0m\n\u001b[1;32m    816\u001b[0m             \u001b[0mself\u001b[0m\u001b[0;34m.\u001b[0m\u001b[0moptions\u001b[0m\u001b[0;34m[\u001b[0m\u001b[0;34m'has_index_names'\u001b[0m\u001b[0;34m]\u001b[0m \u001b[0;34m=\u001b[0m \u001b[0mkwds\u001b[0m\u001b[0;34m[\u001b[0m\u001b[0;34m'has_index_names'\u001b[0m\u001b[0;34m]\u001b[0m\u001b[0;34m\u001b[0m\u001b[0m\n\u001b[1;32m    817\u001b[0m \u001b[0;34m\u001b[0m\u001b[0m\n\u001b[0;32m--> 818\u001b[0;31m         \u001b[0mself\u001b[0m\u001b[0;34m.\u001b[0m\u001b[0m_make_engine\u001b[0m\u001b[0;34m(\u001b[0m\u001b[0mself\u001b[0m\u001b[0;34m.\u001b[0m\u001b[0mengine\u001b[0m\u001b[0;34m)\u001b[0m\u001b[0;34m\u001b[0m\u001b[0m\n\u001b[0m\u001b[1;32m    819\u001b[0m \u001b[0;34m\u001b[0m\u001b[0m\n\u001b[1;32m    820\u001b[0m     \u001b[0;32mdef\u001b[0m \u001b[0mclose\u001b[0m\u001b[0;34m(\u001b[0m\u001b[0mself\u001b[0m\u001b[0;34m)\u001b[0m\u001b[0;34m:\u001b[0m\u001b[0;34m\u001b[0m\u001b[0m\n",
      "\u001b[0;32m~/mlenv3/lib/python3.5/site-packages/pandas/io/parsers.py\u001b[0m in \u001b[0;36m_make_engine\u001b[0;34m(self, engine)\u001b[0m\n\u001b[1;32m   1047\u001b[0m     \u001b[0;32mdef\u001b[0m \u001b[0m_make_engine\u001b[0m\u001b[0;34m(\u001b[0m\u001b[0mself\u001b[0m\u001b[0;34m,\u001b[0m \u001b[0mengine\u001b[0m\u001b[0;34m=\u001b[0m\u001b[0;34m'c'\u001b[0m\u001b[0;34m)\u001b[0m\u001b[0;34m:\u001b[0m\u001b[0;34m\u001b[0m\u001b[0m\n\u001b[1;32m   1048\u001b[0m         \u001b[0;32mif\u001b[0m \u001b[0mengine\u001b[0m \u001b[0;34m==\u001b[0m \u001b[0;34m'c'\u001b[0m\u001b[0;34m:\u001b[0m\u001b[0;34m\u001b[0m\u001b[0m\n\u001b[0;32m-> 1049\u001b[0;31m             \u001b[0mself\u001b[0m\u001b[0;34m.\u001b[0m\u001b[0m_engine\u001b[0m \u001b[0;34m=\u001b[0m \u001b[0mCParserWrapper\u001b[0m\u001b[0;34m(\u001b[0m\u001b[0mself\u001b[0m\u001b[0;34m.\u001b[0m\u001b[0mf\u001b[0m\u001b[0;34m,\u001b[0m \u001b[0;34m**\u001b[0m\u001b[0mself\u001b[0m\u001b[0;34m.\u001b[0m\u001b[0moptions\u001b[0m\u001b[0;34m)\u001b[0m\u001b[0;34m\u001b[0m\u001b[0m\n\u001b[0m\u001b[1;32m   1050\u001b[0m         \u001b[0;32melse\u001b[0m\u001b[0;34m:\u001b[0m\u001b[0;34m\u001b[0m\u001b[0m\n\u001b[1;32m   1051\u001b[0m             \u001b[0;32mif\u001b[0m \u001b[0mengine\u001b[0m \u001b[0;34m==\u001b[0m \u001b[0;34m'python'\u001b[0m\u001b[0;34m:\u001b[0m\u001b[0;34m\u001b[0m\u001b[0m\n",
      "\u001b[0;32m~/mlenv3/lib/python3.5/site-packages/pandas/io/parsers.py\u001b[0m in \u001b[0;36m__init__\u001b[0;34m(self, src, **kwds)\u001b[0m\n\u001b[1;32m   1693\u001b[0m         \u001b[0mkwds\u001b[0m\u001b[0;34m[\u001b[0m\u001b[0;34m'allow_leading_cols'\u001b[0m\u001b[0;34m]\u001b[0m \u001b[0;34m=\u001b[0m \u001b[0mself\u001b[0m\u001b[0;34m.\u001b[0m\u001b[0mindex_col\u001b[0m \u001b[0;32mis\u001b[0m \u001b[0;32mnot\u001b[0m \u001b[0;32mFalse\u001b[0m\u001b[0;34m\u001b[0m\u001b[0m\n\u001b[1;32m   1694\u001b[0m \u001b[0;34m\u001b[0m\u001b[0m\n\u001b[0;32m-> 1695\u001b[0;31m         \u001b[0mself\u001b[0m\u001b[0;34m.\u001b[0m\u001b[0m_reader\u001b[0m \u001b[0;34m=\u001b[0m \u001b[0mparsers\u001b[0m\u001b[0;34m.\u001b[0m\u001b[0mTextReader\u001b[0m\u001b[0;34m(\u001b[0m\u001b[0msrc\u001b[0m\u001b[0;34m,\u001b[0m \u001b[0;34m**\u001b[0m\u001b[0mkwds\u001b[0m\u001b[0;34m)\u001b[0m\u001b[0;34m\u001b[0m\u001b[0m\n\u001b[0m\u001b[1;32m   1696\u001b[0m \u001b[0;34m\u001b[0m\u001b[0m\n\u001b[1;32m   1697\u001b[0m         \u001b[0;31m# XXX\u001b[0m\u001b[0;34m\u001b[0m\u001b[0;34m\u001b[0m\u001b[0m\n",
      "\u001b[0;32mpandas/_libs/parsers.pyx\u001b[0m in \u001b[0;36mpandas._libs.parsers.TextReader.__cinit__\u001b[0;34m()\u001b[0m\n",
      "\u001b[0;32mpandas/_libs/parsers.pyx\u001b[0m in \u001b[0;36mpandas._libs.parsers.TextReader._setup_parser_source\u001b[0;34m()\u001b[0m\n",
      "\u001b[0;31mFileNotFoundError\u001b[0m: File b'/data/test/test_02.csv' does not exist"
     ]
    }
   ],
   "source": [
    "for file in files:\n",
    "    data = pd.read_csv(file)\n",
    "    min_date = data.date.min()\n",
    "    "
   ]
  }
 ],
 "metadata": {
  "kernelspec": {
   "display_name": "Python 3",
   "language": "python",
   "name": "python3"
  },
  "language_info": {
   "codemirror_mode": {
    "name": "ipython",
    "version": 3
   },
   "file_extension": ".py",
   "mimetype": "text/x-python",
   "name": "python",
   "nbconvert_exporter": "python",
   "pygments_lexer": "ipython3",
   "version": "3.5.2"
  }
 },
 "nbformat": 4,
 "nbformat_minor": 2
}
