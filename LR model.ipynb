{
 "cells": [
  {
   "cell_type": "code",
   "execution_count": 1,
   "metadata": {},
   "outputs": [],
   "source": [
    "import pandas as pd\n",
    "import numpy as np\n",
    "import matplotlib.pyplot as plt\n",
    "%matplotlib inline"
   ]
  },
  {
   "cell_type": "code",
   "execution_count": 2,
   "metadata": {},
   "outputs": [],
   "source": [
    "coin_ids = {\n",
    "    'Bitcoin': 1442,\n",
    "    'Bitcoin Cash': 1445,\n",
    "    'Bitcoin Gold': 1456,\n",
    "    'Cardano': 1446,\n",
    "    'Dash': 1453,\n",
    "    'Dogecoin': 1447,\n",
    "    'Eos': 1452,\n",
    "    'Ethereum': 1443,\n",
    "    'Ethereum Classic': 1457,\n",
    "    'Iota': 1451,\n",
    "    'Lisk': 1460,\n",
    "    'Litecoin': 1448,\n",
    "    'Monero': 1454,\n",
    "    'NEMcoin': 1447,\n",
    "    'Neo': 1449,\n",
    "    'Ripple': 1444,\n",
    "    'Stellar': 1450,\n",
    "    'Tether': 1474,\n",
    "    'Tron': 1455,\n",
    "    'Zcash': 1465,\n",
    "}\n",
    "\n",
    "id_coins = {v: k for k, v in coin_ids.items()}"
   ]
  },
  {
   "cell_type": "markdown",
   "metadata": {},
   "source": [
    "### load data:"
   ]
  },
  {
   "cell_type": "code",
   "execution_count": 3,
   "metadata": {},
   "outputs": [],
   "source": [
    "iterator_full_data = pd.read_csv('data/datathon.csv', iterator=True, chunksize=100000, parse_dates = ['time'])\n",
    "subset_full_data = pd.concat([chunk[chunk.refID_coin.isin(coin_ids.values())] for chunk in iterator_full_data])\n",
    "subset_full_data = subset_full_data.replace({'refID_coin': id_coins})"
   ]
  },
  {
   "cell_type": "markdown",
   "metadata": {},
   "source": [
    "### There are some duplicate rows, as well as some rows that should exist, but don't:"
   ]
  },
  {
   "cell_type": "code",
   "execution_count": 4,
   "metadata": {},
   "outputs": [
    {
     "data": {
      "text/plain": [
       "(456, 9)"
      ]
     },
     "execution_count": 4,
     "metadata": {},
     "output_type": "execute_result"
    }
   ],
   "source": [
    "subset_full_data[subset_full_data[['time', 'refID_coin']].duplicated()].shape"
   ]
  },
  {
   "cell_type": "code",
   "execution_count": 5,
   "metadata": {},
   "outputs": [],
   "source": [
    "full_index = pd.MultiIndex.from_product([subset_full_data.time.unique(), subset_full_data.refID_coin.unique()])\n",
    "subset_full_data = subset_full_data.drop_duplicates(subset = ['time', 'refID_coin']).set_index(['time', 'refID_coin']).reindex(full_index, fill_value = np.nan).reset_index().rename({'level_0': 'time', 'level_1': 'refID_coin'}, axis=1)"
   ]
  },
  {
   "cell_type": "markdown",
   "metadata": {},
   "source": [
    "### fill missing values:"
   ]
  },
  {
   "cell_type": "code",
   "execution_count": 10,
   "metadata": {},
   "outputs": [],
   "source": [
    "numeric_cols = ['price', 'marketCap', 'CirculatingSupply', 'Volume24h', 'Movement1h', 'Movement24h']"
   ]
  },
  {
   "cell_type": "code",
   "execution_count": 7,
   "metadata": {},
   "outputs": [],
   "source": [
    "subset_full_data[numeric_cols] = subset_full_data.groupby('refID_coin')[numeric_cols].transform(lambda x: x.fillna(method='ffill'))"
   ]
  },
  {
   "cell_type": "markdown",
   "metadata": {},
   "source": [
    "### add moving averages:"
   ]
  },
  {
   "cell_type": "code",
   "execution_count": 12,
   "metadata": {},
   "outputs": [],
   "source": [
    "for column in numeric_cols:\n",
    "    for center_of_mass in [10, 50, 288, 1000, 1440, 2880]:\n",
    "        new_col_name = column + str(center_of_mass)\n",
    "        ma = subset_full_data.groupby(\"refID_coin\", as_index = False).apply(lambda x: x[column].ewm(com=center_of_mass).mean())\n",
    "        subset_full_data[new_col_name] = ma.reset_index(level=0, drop=True)"
   ]
  },
  {
   "cell_type": "code",
   "execution_count": 13,
   "metadata": {},
   "outputs": [
    {
     "ename": "AttributeError",
     "evalue": "'DataFrame' object has no attribute 'marketCap_MA_1000'",
     "output_type": "error",
     "traceback": [
      "\u001b[0;31m---------------------------------------------------------------------------\u001b[0m",
      "\u001b[0;31mAttributeError\u001b[0m                            Traceback (most recent call last)",
      "\u001b[0;32m<ipython-input-13-bc4ea0b89854>\u001b[0m in \u001b[0;36m<module>\u001b[0;34m()\u001b[0m\n\u001b[1;32m      3\u001b[0m                          (subset_full_data.refID_coin == 'Bitcoin')]\n\u001b[1;32m      4\u001b[0m \u001b[0mplt\u001b[0m\u001b[0;34m.\u001b[0m\u001b[0mplot\u001b[0m\u001b[0;34m(\u001b[0m\u001b[0mdaily\u001b[0m\u001b[0;34m.\u001b[0m\u001b[0mtime\u001b[0m\u001b[0;34m,\u001b[0m \u001b[0mdaily\u001b[0m\u001b[0;34m.\u001b[0m\u001b[0mmarketCap\u001b[0m\u001b[0;34m)\u001b[0m\u001b[0;34m\u001b[0m\u001b[0m\n\u001b[0;32m----> 5\u001b[0;31m \u001b[0mplt\u001b[0m\u001b[0;34m.\u001b[0m\u001b[0mplot\u001b[0m\u001b[0;34m(\u001b[0m\u001b[0mdaily\u001b[0m\u001b[0;34m.\u001b[0m\u001b[0mtime\u001b[0m\u001b[0;34m,\u001b[0m \u001b[0mdaily\u001b[0m\u001b[0;34m.\u001b[0m\u001b[0mmarketCap_MA_1000\u001b[0m\u001b[0;34m)\u001b[0m\u001b[0;34m\u001b[0m\u001b[0m\n\u001b[0m",
      "\u001b[0;32m~/mlenv3/lib/python3.5/site-packages/pandas/core/generic.py\u001b[0m in \u001b[0;36m__getattr__\u001b[0;34m(self, name)\u001b[0m\n\u001b[1;32m   3612\u001b[0m             \u001b[0;32mif\u001b[0m \u001b[0mname\u001b[0m \u001b[0;32min\u001b[0m \u001b[0mself\u001b[0m\u001b[0;34m.\u001b[0m\u001b[0m_info_axis\u001b[0m\u001b[0;34m:\u001b[0m\u001b[0;34m\u001b[0m\u001b[0m\n\u001b[1;32m   3613\u001b[0m                 \u001b[0;32mreturn\u001b[0m \u001b[0mself\u001b[0m\u001b[0;34m[\u001b[0m\u001b[0mname\u001b[0m\u001b[0;34m]\u001b[0m\u001b[0;34m\u001b[0m\u001b[0m\n\u001b[0;32m-> 3614\u001b[0;31m             \u001b[0;32mreturn\u001b[0m \u001b[0mobject\u001b[0m\u001b[0;34m.\u001b[0m\u001b[0m__getattribute__\u001b[0m\u001b[0;34m(\u001b[0m\u001b[0mself\u001b[0m\u001b[0;34m,\u001b[0m \u001b[0mname\u001b[0m\u001b[0;34m)\u001b[0m\u001b[0;34m\u001b[0m\u001b[0m\n\u001b[0m\u001b[1;32m   3615\u001b[0m \u001b[0;34m\u001b[0m\u001b[0m\n\u001b[1;32m   3616\u001b[0m     \u001b[0;32mdef\u001b[0m \u001b[0m__setattr__\u001b[0m\u001b[0;34m(\u001b[0m\u001b[0mself\u001b[0m\u001b[0;34m,\u001b[0m \u001b[0mname\u001b[0m\u001b[0;34m,\u001b[0m \u001b[0mvalue\u001b[0m\u001b[0;34m)\u001b[0m\u001b[0;34m:\u001b[0m\u001b[0;34m\u001b[0m\u001b[0m\n",
      "\u001b[0;31mAttributeError\u001b[0m: 'DataFrame' object has no attribute 'marketCap_MA_1000'"
     ]
    },
    {
     "data": {
      "image/png": "[encoded data removed]",
      "text/plain": [
       "<matplotlib.figure.Figure at 0x7f17bafa2b38>"
      ]
     },
     "metadata": {},
     "output_type": "display_data"
    }
   ],
   "source": [
    "daily = subset_full_data[(subset_full_data.time.dt.minute == 0) & \n",
    "                         (subset_full_data.time.dt.hour == 12) &\n",
    "                         (subset_full_data.refID_coin == 'Bitcoin')]\n",
    "plt.plot(daily.time, daily.marketCap)\n",
    "plt.plot(daily.time, daily.marketCap_MA_1000)"
   ]
  },
  {
   "cell_type": "code",
   "execution_count": 14,
   "metadata": {},
   "outputs": [
    {
     "data": {
      "text/plain": [
       "8652        NaN\n",
       "371600      NaN\n",
       "778968      NaN\n",
       "1193954     NaN\n",
       "1611150     NaN\n",
       "2027702     NaN\n",
       "2424746     NaN\n",
       "3153396     NaN\n",
       "3574355     NaN\n",
       "3996834     NaN\n",
       "4419636     NaN\n",
       "4842486     NaN\n",
       "5264751     NaN\n",
       "6079083     NaN\n",
       "6494316     NaN\n",
       "6922131     NaN\n",
       "7350976     NaN\n",
       "7783536     NaN\n",
       "8214893     NaN\n",
       "9077526     NaN\n",
       "9508287     NaN\n",
       "9688753     NaN\n",
       "10121081    NaN\n",
       "10555118    NaN\n",
       "10744838    NaN\n",
       "10911884    NaN\n",
       "11351275    NaN\n",
       "11792703    NaN\n",
       "12233028    NaN\n",
       "12634918    NaN\n",
       "13073982    NaN\n",
       "13495496    NaN\n",
       "13926601    NaN\n",
       "14354127    NaN\n",
       "14785523    NaN\n",
       "14960208    NaN\n",
       "15392401    NaN\n",
       "15826456    NaN\n",
       "16261140    NaN\n",
       "16625054    NaN\n",
       "16962115    NaN\n",
       "17302825    NaN\n",
       "17633762    NaN\n",
       "18604266    NaN\n",
       "18943111    NaN\n",
       "19284106    NaN\n",
       "19622884    NaN\n",
       "19958980    NaN\n",
       "20300002    NaN\n",
       "20653549    NaN\n",
       "21012942    NaN\n",
       "21369605    NaN\n",
       "21729325    NaN\n",
       "22092173    NaN\n",
       "22463537    NaN\n",
       "22982295    NaN\n",
       "Name: marketCap_MA_1000, dtype: object"
      ]
     },
     "execution_count": 14,
     "metadata": {},
     "output_type": "execute_result"
    }
   ],
   "source": [
    "daily.marketCap_MA_1000"
   ]
  }
 ],
 "metadata": {
  "kernelspec": {
   "display_name": "Python 3",
   "language": "python",
   "name": "python3"
  },
  "language_info": {
   "codemirror_mode": {
    "name": "ipython",
    "version": 3
   },
   "file_extension": ".py",
   "mimetype": "text/x-python",
   "name": "python",
   "nbconvert_exporter": "python",
   "pygments_lexer": "ipython3",
   "version": "3.5.2"
  }
 },
 "nbformat": 4,
 "nbformat_minor": 2
}
