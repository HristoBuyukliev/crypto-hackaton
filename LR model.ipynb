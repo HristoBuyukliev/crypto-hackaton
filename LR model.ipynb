{
 "cells": [
  {
   "cell_type": "code",
   "execution_count": 1,
   "metadata": {},
   "outputs": [],
   "source": [
    "import pandas as pd\n",
    "import numpy as np\n",
    "import matplotlib.pyplot as plt\n",
    "%matplotlib inline\n",
    "from sklearn.linear_model import LinearRegression\n",
    "from math import sqrt"
   ]
  },
  {
   "cell_type": "markdown",
   "metadata": {},
   "source": [
    "### Load data:"
   ]
  },
  {
   "cell_type": "code",
   "execution_count": 2,
   "metadata": {},
   "outputs": [],
   "source": [
    "cleaned = pd.read_csv('data/cleaned.csv')\n",
    "cleaned.drop(columns = ['Unnamed: 0'], axis=1, inplace=True)"
   ]
  },
  {
   "cell_type": "markdown",
   "metadata": {},
   "source": [
    "### fit LR model:"
   ]
  },
  {
   "cell_type": "code",
   "execution_count": 3,
   "metadata": {},
   "outputs": [],
   "source": [
    "start_test_date = '2018-03-01'"
   ]
  },
  {
   "cell_type": "code",
   "execution_count": 4,
   "metadata": {},
   "outputs": [],
   "source": [
    "train = cleaned[(cleaned.time <= start_test_date) & (cleaned.refID_coin == 'Bitcoin')]\n",
    "# selects data from 03-01 00:05 onward\n",
    "test  = cleaned[(cleaned.time > start_test_date) & (cleaned.refID_coin == 'Bitcoin')] "
   ]
  },
  {
   "cell_type": "code",
   "execution_count": 5,
   "metadata": {},
   "outputs": [],
   "source": [
    "numeric_columns = [col for col in cleaned.columns if col not in ['time', 'target', 'refID_coin']]"
   ]
  },
  {
   "cell_type": "code",
   "execution_count": 6,
   "metadata": {},
   "outputs": [],
   "source": [
    "def mape_error(actual, forecasted):\n",
    "    actual = pd.Series(actual)\n",
    "    forecasted = pd.Series(forecasted)\n",
    "    return 100 * sum(abs((actual - forecasted) / actual)) / actual.size\n",
    "\n",
    "def ds_error(actual, forecasted):\n",
    "    actual = pd.Series(actual)\n",
    "    forecasted = pd.Series(forecasted)\n",
    "    return 100 * sum((actual - actual.shift(1)) * (forecasted - forecasted.shift(1)) > 0) / (actual.size - 1)\n",
    "\n",
    "def mape_var_coeff(mape_errors):\n",
    "    mape_errors = pd.Series(mape_errors)\n",
    "    mean_mape_error = mape_errors.mean()\n",
    "    return sqrt(sum((mape_errors - mean_mape_error)**2) / (mape_errors.size - 1)) / mean_mape_error"
   ]
  },
  {
   "cell_type": "code",
   "execution_count": 7,
   "metadata": {},
   "outputs": [
    {
     "name": "stdout",
     "output_type": "stream",
     "text": [
      "Bitcoin\n",
      "(12247, 29) (12247,) (6504, 29) (6504,)\n",
      "0.26263159360671967 0.11923706467679046\n",
      "39.81239427956328 50\n",
      "Ethereum\n",
      "(12247, 29) (12247,) (6504, 29) (6504,)\n",
      "0.5182637551435982 0.12302945207501462\n",
      "38.22850991849916 50\n",
      "Ripple\n",
      "(12247, 29) (12247,) (6504, 29) (6504,)\n",
      "0.43535699127971317 0.17303620852282306\n",
      "36.33707519606335 50\n",
      "Bitcoin Cash\n",
      "(12247, 29) (12247,) (6504, 29) (6504,)\n",
      "0.7142844734508446 0.17186864885318204\n",
      "36.18330001537752 50\n",
      "Cardano\n",
      "(12247, 29) (12247,) (6504, 29) (6504,)\n",
      "0.27464307189906734 0.24670836839102944\n",
      "32.523450715054594 50\n",
      "Litecoin\n",
      "(12247, 29) (12247,) (6504, 29) (6504,)\n",
      "0.3897604406360418 0.14963372453147397\n",
      "36.99830847301246 50\n",
      "NEMcoin\n",
      "(12247, 29) (12247,) (6504, 29) (6504,)\n",
      "0.6609427137998642 0.2614518096238588\n",
      "36.52160541288636 50\n",
      "Neo\n",
      "(12247, 29) (12247,) (6504, 29) (6504,)\n",
      "0.4541091245777046 0.22419521777245427\n",
      "35.70659695525142 50\n",
      "Stellar\n",
      "(12247, 29) (12247,) (6504, 29) (6504,)\n",
      "0.3282199906572679 0.22715859683139022\n",
      "35.41442411194833 50\n",
      "Iota\n",
      "(12247, 29) (12247,) (6504, 29) (6504,)\n",
      "0.46578081696430534 0.21896762496704017\n",
      "11.763801322466554 50\n",
      "Dash\n",
      "(12247, 29) (12247,) (6504, 29) (6504,)\n",
      "0.8474034009129977 0.1455184507385199\n",
      "35.01460864216516 50\n",
      "Eos\n",
      "(12247, 29) (12247,) (6504, 29) (6504,)\n",
      "0.27506693296983 0.18116011693654502\n",
      "27.187451945256036 50\n",
      "Monero\n",
      "(12247, 29) (12247,) (6504, 29) (6504,)\n",
      "0.6133149598458493 0.19547818831204836\n",
      "37.69029678609872 50\n",
      "Tron\n",
      "(12247, 29) (12247,) (6504, 29) (6504,)\n",
      "0.7125927467000828 0.23327909232983451\n",
      "34.69168076272489 50\n",
      "Bitcoin Gold\n",
      "(12247, 29) (12247,) (6504, 29) (6504,)\n",
      "1.317476852022245 0.18756560207545048\n",
      "33.56912194371829 50\n",
      "Ethereum Classic\n",
      "(12247, 29) (12247,) (6504, 29) (6504,)\n",
      "1.5874152462954567 0.21137408562191629\n",
      "34.63017069045056 50\n",
      "Lisk\n",
      "(12247, 29) (12247,) (6504, 29) (6504,)\n",
      "2.0855686642152045 0.2803580964915323\n",
      "30.401353221590036 50\n",
      "Tether\n",
      "(12247, 29) (12247,) (6504, 29) (6504,)\n",
      "0.21329641063650703 0.12496970970690728\n",
      "16.177149008150085 50\n",
      "Zcash\n",
      "(12247, 29) (12247,) (6504, 29) (6504,)\n",
      "1.137959502725031 0.16002696711125936\n",
      "35.02998616023374 50\n",
      "Dogecoin\n",
      "(12247, 29) (12247,) (6504, 29) (6504,)\n",
      "0.9189285653804952 0.2856078845685606\n",
      "29.817007534983855 50\n"
     ]
    }
   ],
   "source": [
    "for coin in cleaned.refID_coin.unique():\n",
    "    print(coin)\n",
    "    train = cleaned[(cleaned.time <= start_test_date) & \n",
    "                             (cleaned.refID_coin == coin)]\n",
    "    test  = cleaned[(cleaned.time > start_test_date) & \n",
    "                             (cleaned.refID_coin == coin)].head(-1)\n",
    "    X_train = train[numeric_columns].values\n",
    "    X_test = test[numeric_columns].values\n",
    "    y_train = train.target.values\n",
    "    y_test = test.target.values\n",
    "    print(X_train.shape, y_train.shape, X_test.shape, y_test.shape)\n",
    "    \n",
    "\n",
    "    lr = LinearRegression()\n",
    "    lr.fit(X_train, y_train)\n",
    "    y_pred = lr.predict(X_test)\n",
    "    y_pred_random_walk = test.price.values\n",
    "    \n",
    "    print(mape_error(y_pred, y_test), mape_error(y_pred_random_walk, y_test))\n",
    "    print(ds_error(y_pred, y_test), 50)"
   ]
  }
 ],
 "metadata": {
  "kernelspec": {
   "display_name": "Python 3",
   "language": "python",
   "name": "python3"
  },
  "language_info": {
   "codemirror_mode": {
    "name": "ipython",
    "version": 3
   },
   "file_extension": ".py",
   "mimetype": "text/x-python",
   "name": "python",
   "nbconvert_exporter": "python",
   "pygments_lexer": "ipython3",
   "version": "3.5.2"
  }
 },
 "nbformat": 4,
 "nbformat_minor": 2
}
