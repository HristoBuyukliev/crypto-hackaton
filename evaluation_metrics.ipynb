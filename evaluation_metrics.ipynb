{
 "cells": [
  {
   "cell_type": "code",
   "execution_count": 123,
   "metadata": {
    "collapsed": true
   },
   "outputs": [],
   "source": [
    "import pandas as pd\n",
    "from math import sqrt"
   ]
  },
  {
   "cell_type": "markdown",
   "metadata": {},
   "source": [
    "## Evaluation metrics"
   ]
  },
  {
   "cell_type": "markdown",
   "metadata": {},
   "source": [
    "1) MAPE (mean absolute percantage)\n",
    "\n",
    "<img src=\"https://www.datasciencesociety.net/wp-content/uploads/2018/04/word-image-2-e1524229197392.png\", width=300, height=300>\n"
   ]
  },
  {
   "cell_type": "code",
   "execution_count": 124,
   "metadata": {
    "collapsed": true
   },
   "outputs": [],
   "source": [
    "def mape_error(actual, forecasted):\n",
    "    actual = pd.Series(actual)\n",
    "    forecasted = pd.Series(forecasted)\n",
    "    return 100 * sum(abs((actual - forecasted) / actual)) / actual.size"
   ]
  },
  {
   "cell_type": "markdown",
   "metadata": {},
   "source": [
    "2) Directional symmetry\n",
    "\n",
    "<img src=\"https://www.datasciencesociety.net/wp-content/uploads/2018/04/word-image-3-e1524229256509.png\", width=300, height=300>"
   ]
  },
  {
   "cell_type": "code",
   "execution_count": 125,
   "metadata": {
    "collapsed": true
   },
   "outputs": [],
   "source": [
    "def ds_error(actual, forecasted):\n",
    "    actual = pd.Series(actual)\n",
    "    forecasted = pd.Series(forecasted)\n",
    "    return 100 * sum((actual - actual.shift(1)) * (forecasted - forecasted.shift(1)) > 0) / (actual.size - 1)"
   ]
  },
  {
   "cell_type": "markdown",
   "metadata": {},
   "source": [
    "3) Coefficient of variation of the mean absolute percentage error\n",
    "\n",
    "<img src=\"https://www.datasciencesociety.net/wp-content/uploads/2018/04/word-image-4-e1524229318196.png\", width=300, height=300>"
   ]
  },
  {
   "cell_type": "code",
   "execution_count": 126,
   "metadata": {
    "collapsed": true
   },
   "outputs": [],
   "source": [
    "from math import sqrt\n",
    "\n",
    "def mape_var_coeff(mape_errors):\n",
    "    mape_errors = pd.Series(mape_errors)\n",
    "    mean_mape_error = mape_errors.mean()\n",
    "    return sqrt(sum((mape_errors - mean_mape_error)**2) / (mape_errors.size - 1)) / mean_mape_error"
   ]
  }
 ],
 "metadata": {
  "kernelspec": {
   "display_name": "Python 3",
   "language": "python",
   "name": "python3"
  },
  "language_info": {
   "codemirror_mode": {
    "name": "ipython",
    "version": 3
   },
   "file_extension": ".py",
   "mimetype": "text/x-python",
   "name": "python",
   "nbconvert_exporter": "python",
   "pygments_lexer": "ipython3",
   "version": "3.6.1"
  }
 },
 "nbformat": 4,
 "nbformat_minor": 2
}
